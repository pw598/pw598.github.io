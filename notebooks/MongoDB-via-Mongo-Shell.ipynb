{
 "cells": [
  {
   "cell_type": "markdown",
   "id": "5f726bbe-2162-4ba0-a55f-1dd53dd573c8",
   "metadata": {},
   "source": [
    "# MongoDB via Mongo Shell"
   ]
  },
  {
   "cell_type": "markdown",
   "id": "03633268-7eec-4c24-be25-b72b3c699a0b",
   "metadata": {},
   "source": [
    "# Outline\n",
    "\n",
    "- Opening the Mongo Shell\n",
    "- Show Databases\n",
    "- Import Data\n",
    "- Select Imported DB\n",
    "- Show Collections\n",
    "- Sample Documents\n",
    "- Get Record Counts\n",
    "- Get List of Distinct Fields\n",
    "- Get Number of Distinct Values by Field\n",
    "- Get List of Unique Values for a Field\n",
    "- Get Count of Unique Values by Value for a Field\n",
    "- CRUD Operations\n",
    "\t- Delete and Create\n",
    "\t- Read\n",
    "\t- Update\n",
    "- Indexes\n",
    "\t- View Indexes\n",
    "\t- Create Indexes"
   ]
  },
  {
   "cell_type": "markdown",
   "id": "5b524d1b-49bc-4366-8d49-24409584311d",
   "metadata": {},
   "source": [
    "   "
   ]
  },
  {
   "cell_type": "markdown",
   "id": "af7b9722-8fd5-43ac-b011-339dd493ac00",
   "metadata": {},
   "source": [
    "The following code is only valid with the MongoDB shell, wherever not otherwise stated."
   ]
  },
  {
   "cell_type": "markdown",
   "id": "fba74ff8-f284-4089-9957-3a9daa57d9cb",
   "metadata": {},
   "source": [
    "# Opening the Mongo Shell"
   ]
  },
  {
   "cell_type": "markdown",
   "id": "42218995-3019-4c7e-9710-1dacaee009a0",
   "metadata": {},
   "source": [
    "### From the Command Line"
   ]
  },
  {
   "cell_type": "markdown",
   "id": "358ececa-b7e4-4bfc-98de-04c61afb2683",
   "metadata": {},
   "source": [
    "This will default to the localhost server."
   ]
  },
  {
   "cell_type": "code",
   "execution_count": null,
   "id": "4817012b-0692-4d6c-84a1-b3597441449a",
   "metadata": {},
   "outputs": [],
   "source": [
    "mongosh"
   ]
  },
  {
   "cell_type": "code",
   "execution_count": null,
   "id": "9aab2ab2-fa6f-44bd-8e01-05121cf1d4e6",
   "metadata": {},
   "outputs": [],
   "source": [
    "# to set the host and port:\n",
    "# mongosh --host <hostname> --port <port>"
   ]
  },
  {
   "cell_type": "markdown",
   "id": "dc18ad4a-73f9-4575-98c1-eb03be626179",
   "metadata": {},
   "source": [
    "### Opening it Directly"
   ]
  },
  {
   "cell_type": "markdown",
   "id": "4860278a-f416-4e5a-95ef-90fa94cf50b7",
   "metadata": {},
   "source": [
    "This will prompt for a server: \n",
    "\n",
    "<code>Please enter a MongoDB connection string (Default: mongodb://localhost/):</code>"
   ]
  },
  {
   "cell_type": "raw",
   "id": "3fdb10a5-f0d8-4115-a2d1-24a6d1101016",
   "metadata": {},
   "source": [
    "mongodb://localhost/"
   ]
  },
  {
   "cell_type": "markdown",
   "id": "06a09099-04ac-4286-b6f4-4d4917dac918",
   "metadata": {},
   "source": [
    "# Show Databases"
   ]
  },
  {
   "cell_type": "code",
   "execution_count": null,
   "id": "f41da9d8-521d-46db-9388-8e3aa8e6f0d7",
   "metadata": {},
   "outputs": [],
   "source": [
    "show dbs"
   ]
  },
  {
   "cell_type": "code",
   "execution_count": null,
   "id": "96817284-143a-4f35-bbc7-0b9512ec5900",
   "metadata": {},
   "outputs": [],
   "source": [
    "# admin        132.00 KiB\n",
    "# config       116.00 KiB\n",
    "# local         96.00 KiB"
   ]
  },
  {
   "cell_type": "markdown",
   "id": "ecf95a3f-39ca-4109-a734-33625c9fc41b",
   "metadata": {},
   "source": [
    "<code>show databases</code> would work equally well."
   ]
  },
  {
   "cell_type": "markdown",
   "id": "38f0dd7c-35be-4cc3-8a78-ccb8fca6f80d",
   "metadata": {},
   "source": [
    "# Import Data"
   ]
  },
  {
   "cell_type": "markdown",
   "id": "0c0c3e9a-d8b4-40d3-a673-1dec4f604c65",
   "metadata": {},
   "source": [
    "### Drop <code>clickstream</code> if Exists (Optional)"
   ]
  },
  {
   "cell_type": "code",
   "execution_count": null,
   "id": "3a8472a4-4716-4862-9ef1-c3b5be87a2e5",
   "metadata": {},
   "outputs": [],
   "source": [
    "use clickstream"
   ]
  },
  {
   "cell_type": "code",
   "execution_count": null,
   "id": "50033011-3bb1-40d2-9fe7-d11926fd438e",
   "metadata": {},
   "outputs": [],
   "source": [
    "# switched to db clickstream"
   ]
  },
  {
   "cell_type": "code",
   "execution_count": null,
   "id": "303e5377-deaf-4fea-8fc4-04669a1821e6",
   "metadata": {},
   "outputs": [],
   "source": [
    "db.dropDatabase()"
   ]
  },
  {
   "cell_type": "code",
   "execution_count": null,
   "id": "1696c38b-6092-4ca6-bcd7-ed1d5b408cb7",
   "metadata": {},
   "outputs": [],
   "source": [
    "# { ok: 1, dropped: 'clickstream' }"
   ]
  },
  {
   "cell_type": "markdown",
   "id": "11f642e0-c61f-4b98-a866-987f831ad576",
   "metadata": {},
   "source": [
    "### Import From File"
   ]
  },
  {
   "cell_type": "markdown",
   "id": "3127bdb9-9a7a-4bdc-a0c9-b43982642f43",
   "metadata": {},
   "source": [
    "<code>mongorestore</code> and <code>mongoimport</code> must be run from the command line, not the mongo shell.\n",
    "\n",
    "The following is stored in <code>import_data.bat</code>. <code>REM</code> is the comment indicator for <code>.bat</code> files."
   ]
  },
  {
   "cell_type": "raw",
   "id": "f7eda8d0-a317-4e2f-ab48-a98e9a6609e8",
   "metadata": {},
   "source": [
    "REM all but the last two lines are optional, you could use hard-coding instead\n",
    "\n",
    "@echo off\n",
    "set HOST=localhost\n",
    "set PORT=27017\n",
    "set DBNAME=clickstream\n",
    "set IMPORT_FILE_FOLDER=C:\\Users\\patwh\\Documents\\clickstream_data\n",
    "set BSON_FILE_NAME=clicks\n",
    "set JSON_FILE_NAME=clicks.metadata\n",
    "\n",
    "set bson_file=%IMPORT_FILE_FOLDER%\\%BSON_FILE_NAME%.bson\n",
    "set json_file=%IMPORT_FILE_FOLDER%\\%JSON_FILE_NAME%.json\n",
    "\n",
    "set collection_bson=%BSON_FILE_NAME%\n",
    "set collection_json=%JSON_FILE_NAME%\n",
    "\n",
    "REM import operation\n",
    "mongorestore --host %HOST%:%PORT% --db %DBNAME% --collection %collection_bson% --drop \"%bson_file%\"\n",
    "mongoimport --host %HOST%:%PORT% --db %DBNAME% --collection %collection_json% --drop --type json \"%json_file%\"\n",
    "\n",
    "echo Done."
   ]
  },
  {
   "cell_type": "code",
   "execution_count": null,
   "id": "cee74be2-fc80-446a-a41a-5b0381a65591",
   "metadata": {},
   "outputs": [],
   "source": [
    "!\"C:/Users/patwh/Documents/clickstream_data/import_data.bat\""
   ]
  },
  {
   "cell_type": "code",
   "execution_count": null,
   "id": "2c7a5eff-1e74-4062-8249-630821611897",
   "metadata": {},
   "outputs": [],
   "source": [
    "# 2025-05-28T18:38:13.827-0600\tfinished restoring clickstream.clicks (6100000 documents, 0 failures)\n",
    "# 2025-05-28T18:38:13.827-0600\tno indexes to restore for collection clickstream.clicks\n",
    "# 2025-05-28T18:38:13.827-0600\t6100000 document(s) restored successfully. 0 document(s) failed to restore.\n",
    "# 2025-05-28T18:38:14.488-0600\tconnected to: mongodb://localhost:27017/\n",
    "# 2025-05-28T18:38:14.490-0600\tdropping: clickstream.clicks.metadata\n",
    "# 2025-05-28T18:38:14.507-0600\t1 document(s) imported successfully. 0 document(s) failed to import."
   ]
  },
  {
   "cell_type": "markdown",
   "id": "2c601cb1-3676-4d29-b82b-e849b5ef9d2f",
   "metadata": {},
   "source": [
    "# Select Imported DB"
   ]
  },
  {
   "cell_type": "code",
   "execution_count": null,
   "id": "8586745f-938e-44ad-802c-b86929f29b2a",
   "metadata": {},
   "outputs": [],
   "source": [
    "show dbs"
   ]
  },
  {
   "cell_type": "code",
   "execution_count": null,
   "id": "3ba5dd02-f339-4246-9921-41516291c402",
   "metadata": {},
   "outputs": [],
   "source": [
    "# admin        132.00 KiB\n",
    "# clickstream  428.30 MiB\n",
    "# config       108.00 KiB\n",
    "# local         96.00 KiB"
   ]
  },
  {
   "cell_type": "code",
   "execution_count": null,
   "id": "4b0652c7-95cb-4cc7-8118-8395ff4173d5",
   "metadata": {},
   "outputs": [],
   "source": [
    "use clickstream"
   ]
  },
  {
   "cell_type": "code",
   "execution_count": null,
   "id": "ccf5fefb-43d8-4925-a56d-c2012dfd1880",
   "metadata": {},
   "outputs": [],
   "source": [
    "# switched to db clickstream"
   ]
  },
  {
   "cell_type": "markdown",
   "id": "f37a60f9-0341-42a1-bcde-3b37c6443084",
   "metadata": {},
   "source": [
    "# Show Collections"
   ]
  },
  {
   "cell_type": "code",
   "execution_count": null,
   "id": "3ca73138-0d0d-4313-a515-7a4725150da7",
   "metadata": {},
   "outputs": [],
   "source": [
    "show collections"
   ]
  },
  {
   "cell_type": "code",
   "execution_count": null,
   "id": "e486ffc1-8d2b-4d13-ba53-639891239d43",
   "metadata": {},
   "outputs": [],
   "source": [
    "# clicks\n",
    "# clicks.metadata"
   ]
  },
  {
   "cell_type": "markdown",
   "id": "f8dc824b-aef7-498d-a6d8-1c4015f8d48b",
   "metadata": {},
   "source": [
    "# Sample Documents"
   ]
  },
  {
   "cell_type": "code",
   "execution_count": null,
   "id": "18e0f31f-34e2-46aa-ac54-29954bd155b7",
   "metadata": {},
   "outputs": [],
   "source": [
    "db.clicks.findOne()"
   ]
  },
  {
   "cell_type": "code",
   "execution_count": null,
   "id": "a1d01932-093f-471e-aaf7-f326265eb8bc",
   "metadata": {},
   "outputs": [],
   "source": [
    "# {\n",
    "#   _id: ObjectId('60df1029ad74d9467c91a932'),\n",
    "#   webClientID: 'WI100000244987',\n",
    "#   VisitDateTime: ISODate('2018-05-25T04:51:14.179Z'),\n",
    "#   ProductID: 'Pr100037',\n",
    "#   Activity: 'click',\n",
    "#   device: { Browser: 'Firefox', OS: 'Windows' },\n",
    "#   user: { City: 'Colombo', Country: 'Sri Lanka' }\n",
    "# }"
   ]
  },
  {
   "cell_type": "code",
   "execution_count": null,
   "id": "810e183a-f4e2-44ac-ba2a-fa52bdf1f04c",
   "metadata": {},
   "outputs": [],
   "source": [
    "db.clicks.metadata.findOne()"
   ]
  },
  {
   "cell_type": "code",
   "execution_count": null,
   "id": "66a489ff-e807-4e5a-9ffb-04908a78769a",
   "metadata": {},
   "outputs": [],
   "source": [
    "# {\n",
    "#   _id: ObjectId('6837ada071d28360c34516c3'),\n",
    "#   indexes: [ { v: 2, key: { _id: 1 }, name: '_id_' } ],\n",
    "#   uuid: 'ee6da5fe5bdf42b2bc3cecee40723af6',\n",
    "#   collectionName: 'clicks'\n",
    "# }"
   ]
  },
  {
   "cell_type": "markdown",
   "id": "28ce61f8-1bd1-4856-b93f-739453da67ae",
   "metadata": {},
   "source": [
    "# Get Record Counts"
   ]
  },
  {
   "cell_type": "code",
   "execution_count": null,
   "id": "42800161-e987-4e17-a781-be939b42b7be",
   "metadata": {},
   "outputs": [],
   "source": [
    "db.clicks.countDocuments()"
   ]
  },
  {
   "cell_type": "code",
   "execution_count": null,
   "id": "b8a13319-3aee-446a-aceb-1ff1c4e49c07",
   "metadata": {},
   "outputs": [],
   "source": [
    "# 6100000"
   ]
  },
  {
   "cell_type": "code",
   "execution_count": null,
   "id": "8de12463-406f-4cec-873a-0a405d49e815",
   "metadata": {},
   "outputs": [],
   "source": [
    "db.clicks.metadata.countDocuments()"
   ]
  },
  {
   "cell_type": "code",
   "execution_count": null,
   "id": "56e1ca8a-b3f9-4f25-a4c4-6efb576fdac1",
   "metadata": {},
   "outputs": [],
   "source": [
    "# 1"
   ]
  },
  {
   "cell_type": "markdown",
   "id": "5ee9a90d-efe1-4ec3-a146-849c277884e1",
   "metadata": {},
   "source": [
    "### Count of Unique Values (Field <code>device.Browser</code>)"
   ]
  },
  {
   "cell_type": "code",
   "execution_count": null,
   "id": "1177a985-520a-4be1-b908-084dec71b66b",
   "metadata": {},
   "outputs": [],
   "source": [
    "db.clicks.distinct(\"device.Browser\").length"
   ]
  },
  {
   "cell_type": "code",
   "execution_count": null,
   "id": "39a51eae-820c-4244-bcbf-a3cf98660c2d",
   "metadata": {},
   "outputs": [],
   "source": [
    "# 82"
   ]
  },
  {
   "cell_type": "markdown",
   "id": "f922d285-69ea-4c2f-a168-66211c6be01a",
   "metadata": {},
   "source": [
    "# Get List of Distinct Fields"
   ]
  },
  {
   "cell_type": "markdown",
   "id": "8c7eef91-05de-4eee-add4-7c5764c5ab9d",
   "metadata": {},
   "source": [
    "Wrapping this in parentheses is necessary if typing it as a multi-line command (using Enter) in the Mongo Shell; otherwise it will execute the first line when Enter is hit.\n",
    "\n",
    "(For multi-line commands, hit enter after each line. The shell will wait until shift+enter is used to execute.)"
   ]
  },
  {
   "cell_type": "code",
   "execution_count": null,
   "id": "8e5ec6e3-d19a-4eaa-b792-2289995e77b3",
   "metadata": {},
   "outputs": [],
   "source": [
    "# limiting to 1M records (it's faster with pymongo)"
   ]
  },
  {
   "cell_type": "code",
   "execution_count": null,
   "id": "8fe81648-dcfa-4aa8-a6ea-a1c074bb1e6c",
   "metadata": {},
   "outputs": [],
   "source": [
    "(function() {\n",
    "  var fields = {};\n",
    "  db.clicks.find().limit(1000000).forEach(function(doc) {\n",
    "    Object.keys(doc).forEach(function(key) {\n",
    "      fields[key] = true;\n",
    "    });\n",
    "  });\n",
    "  printjson(Object.keys(fields));\n",
    "})();"
   ]
  },
  {
   "cell_type": "code",
   "execution_count": null,
   "id": "ad8b8641-6b3f-443e-b1cc-15ac19e205ea",
   "metadata": {},
   "outputs": [],
   "source": [
    "# [\n",
    "#   '_id',\n",
    "#   'webClientID',\n",
    "#   'VisitDateTime',\n",
    "#   'ProductID',\n",
    "#   'Activity',\n",
    "#   'device',\n",
    "#   'user'\n",
    "# ]"
   ]
  },
  {
   "cell_type": "markdown",
   "id": "54f45043-b71c-4a28-8535-bb71d4d21cf5",
   "metadata": {},
   "source": [
    "Including nested fields:"
   ]
  },
  {
   "cell_type": "code",
   "execution_count": 20,
   "id": "433cdb9c-10f1-4f90-946a-f586329c78a5",
   "metadata": {},
   "outputs": [],
   "source": [
    "## Function for Creating .js Files From Text in Python\n",
    "\n",
    "import os\n",
    "\n",
    "def save_js_commands(js_input, js_folder, js_filename):\n",
    "    filepath = f\"{js_folder}/{js_filename}.js\"\n",
    "    \n",
    "    try:\n",
    "        # trim if string\n",
    "        if isinstance(js_input, str):\n",
    "            lines = [line.rstrip() for line in js_input.splitlines() if line.strip()]\n",
    "\n",
    "        # trim each item if list\n",
    "        elif isinstance(js_input, list):\n",
    "            lines = [line.rstrip() for line in js_input if line.strip()]\n",
    "\n",
    "        # raise error if not string or list\n",
    "        else:\n",
    "            raise TypeError(\"Input must be a string or list of strings.\")\n",
    "\n",
    "        # write to .js file\n",
    "        with open(filepath, 'w', encoding='utf-8', newline='\\r\\n') as file:\n",
    "            for line in lines:\n",
    "                file.write(line + '\\n')\n",
    "\n",
    "        print(f\"✅ JavaScript code saved successfully to: {filepath}\")\n",
    "        return filepath\n",
    "    except Exception as e:\n",
    "        print(f\"❌ Error saving file: {e}\")\n",
    "        return None"
   ]
  },
  {
   "cell_type": "code",
   "execution_count": 14,
   "id": "14f7113c-4abc-4340-8d90-3cbdc3c9ad1c",
   "metadata": {},
   "outputs": [],
   "source": [
    "JS_FOLDER = r\"C:\\Users\\patwh\\Documents\\js_scripts\""
   ]
  },
  {
   "cell_type": "code",
   "execution_count": null,
   "id": "791d84ec-9a17-4f20-acd8-bd7d61f1a7be",
   "metadata": {},
   "outputs": [],
   "source": []
  },
  {
   "cell_type": "code",
   "execution_count": 23,
   "id": "c74e886c-63f7-4877-9d22-4761a72cbd03",
   "metadata": {},
   "outputs": [
    {
     "name": "stdout",
     "output_type": "stream",
     "text": [
      "✅ JavaScript code saved successfully to: C:\\Users\\patwh\\Documents\\js_scripts/unique_fields_nested.js\n"
     ]
    }
   ],
   "source": [
    "## unique_fields_nested.js\n",
    "\n",
    "js_code = \"\"\"\n",
    "(() => {\n",
    "  let fields = {};\n",
    "\n",
    "  // recursive function to extract fields\n",
    "  function extractFields(obj, prefix = \"\") {\n",
    "\n",
    "    // iterate through keys\n",
    "    for (let key in obj) {\n",
    "\n",
    "      // construct full key path, e.g. parent.child\n",
    "      let fullKey = prefix + (prefix ? \".\" : \"\") + key;\n",
    "\n",
    "      // store field\n",
    "      fields[fullKey] = true;\n",
    "      if (obj[key]?.constructor === Object) extractFields(obj[key], fullKey);\n",
    "    }\n",
    "  }\n",
    "\n",
    "  // limit number of records searched\n",
    "  db.clicks.find().limit(1000000).forEach(doc => extractFields(doc));\n",
    "\n",
    "  // print results\n",
    "  printjson(Object.keys(fields));\n",
    "})();\n",
    "\"\"\"\n",
    "\n",
    "js_folder = JS_FOLDER\n",
    "js_filename = \"unique_fields_nested\"\n",
    "\n",
    "js_file = save_js_commands(js_code, js_folder, js_filename)"
   ]
  },
  {
   "cell_type": "code",
   "execution_count": null,
   "id": "3706ec4d-285d-4a88-8869-86956c4a7227",
   "metadata": {},
   "outputs": [],
   "source": [
    "load(\"C:/Users/patwh/Documents/js_scripts/unique_fields_nested.js\")"
   ]
  },
  {
   "cell_type": "code",
   "execution_count": null,
   "id": "c9a5afd9-2e48-440f-97ce-c1a9d4b33188",
   "metadata": {},
   "outputs": [],
   "source": [
    "# [\n",
    "#   '_id',\n",
    "#   'webClientID',\n",
    "#   'VisitDateTime',\n",
    "#   'ProductID',\n",
    "#   'Activity',\n",
    "#   'device',\n",
    "#   'device.Browser',\n",
    "#   'device.OS',\n",
    "#   'user',\n",
    "#   'user.City',\n",
    "#   'user.Country',\n",
    "#   'user.UserID'\n",
    "# ]"
   ]
  },
  {
   "cell_type": "markdown",
   "id": "68295338-57e1-480b-91c0-f165e84176b6",
   "metadata": {},
   "source": [
    "# Get Number of Distinct Values by Field"
   ]
  },
  {
   "cell_type": "markdown",
   "id": "d05a8d87-1472-4971-ad7d-5f3194e5b1e1",
   "metadata": {},
   "source": [
    "Hard-coding the file names above (for speed):"
   ]
  },
  {
   "cell_type": "code",
   "execution_count": 16,
   "id": "63f409b9-56f7-49b8-bd5f-7d0fb7f1a813",
   "metadata": {},
   "outputs": [
    {
     "name": "stdout",
     "output_type": "stream",
     "text": [
      "✅ JavaScript code saved successfully to: C:\\Users\\patwh\\Documents\\js_scripts/count_unique_values_hardcoded.js\n"
     ]
    }
   ],
   "source": [
    "## count_unique_value_hardcoded.js\n",
    "\n",
    "js_code = \"\"\"\n",
    "(function() {\n",
    "  const collection = db.clicks;\n",
    "\n",
    "  const fields = [\n",
    "    '_id',\n",
    "    'webClientID',\n",
    "    'VisitDateTime',\n",
    "    'ProductID',\n",
    "    'Activity',\n",
    "    'device',\n",
    "    'device.Browser',\n",
    "    'device.OS',\n",
    "    'user',\n",
    "    'user.City',\n",
    "    'user.Country',\n",
    "    'user.UserID'\n",
    "  ];\n",
    "\n",
    "  // array to store fields and counts\n",
    "  const results = [];\n",
    "\n",
    "  // iterate through fields\n",
    "  fields.forEach(field => {\n",
    "\n",
    "    const pipeline = \n",
    "      // group documents by the specified field\n",
    "      { $group: { _id: `$${field}` } },\n",
    "\n",
    "      // count number of documents in group \n",
    "      { $group: { _id: null, count: { $sum: 1 } } }\n",
    "    ];\n",
    "\n",
    "    // run collection through pipeline, convert the result to array\n",
    "    const result = collection.aggregate(pipeline).toArray();\n",
    "\n",
    "    // if doc exists, extract count\n",
    "    const count = result.length > 0 ? result[0].count : 0;\n",
    "    results.push({ field: field, count: count });\n",
    "  });\n",
    "\n",
    "  // sort results descending by count\n",
    "  results.sort((a, b) => b.count - a.count);\n",
    "\n",
    "  // print sorted results\n",
    "  results.forEach(({ field, count }) => {\n",
    "    print(`${field}: ${count} unique values`);\n",
    "  });\n",
    "})();\n",
    "\"\"\"\n",
    "\n",
    "js_folder = JS_FOLDER\n",
    "js_filename = \"count_unique_values_hardcoded\"\n",
    "\n",
    "js_file = save_js_commands(js_code, js_folder, js_filename)"
   ]
  },
  {
   "cell_type": "code",
   "execution_count": 5,
   "id": "b738aeba-388a-49da-9622-5d7d05234f77",
   "metadata": {},
   "outputs": [],
   "source": [
    "load(\"C:/Users/patwh/Documents/js_scripts/count_unique_values_hardcoded.js\")"
   ]
  },
  {
   "cell_type": "code",
   "execution_count": null,
   "id": "8eae5e4d-59c5-4ab1-874b-0e1ca8cfb1d3",
   "metadata": {},
   "outputs": [],
   "source": [
    "# _id: 6100000 unique values\n",
    "# VisitDateTime: 6089023 unique values\n",
    "# webClientID: 1091455 unique values\n",
    "# user: 72162 unique values\n",
    "# user.UserID: 34051 unique values\n",
    "# user.City: 26260 unique values\n",
    "# ProductID: 10938 unique values\n",
    "# user.Country: 222 unique values\n",
    "# device: 151 unique values\n",
    "# device.Browser: 82 unique values\n",
    "# device.OS: 18 unique values\n",
    "# Activity: 2 unique values"
   ]
  },
  {
   "cell_type": "markdown",
   "id": "1857a185-28b9-412a-b388-17fa445d941b",
   "metadata": {},
   "source": [
    "### Dynamic Version (First Finds Fields, then Distinct Value Counts)"
   ]
  },
  {
   "cell_type": "code",
   "execution_count": 28,
   "id": "a767974a-42e2-4b81-91df-72abd20d469d",
   "metadata": {},
   "outputs": [
    {
     "name": "stdout",
     "output_type": "stream",
     "text": [
      "✅ JavaScript code saved successfully to: C:\\Users\\patwh\\Documents\\js_scripts/count_unique_values_dynamic.js\n"
     ]
    }
   ],
   "source": [
    "## count_unique_values_dynamic.js\n",
    "\n",
    "js_code = \"\"\"\n",
    "(() => {\n",
    "  db = db.getSiblingDB('clickstream');\n",
    "  \n",
    "  // empty object\n",
    "  let fields = {};\n",
    "\n",
    "  // extract fields from nested objects\n",
    "  function extractFields(obj, prefix = '') {\n",
    "  \n",
    "    // iterate through keys\n",
    "    Object.keys(obj).forEach(key => {\n",
    "    \n",
    "      // construct full key path, e.g. parent.child\n",
    "      let fullKey = prefix + (prefix ? '.' : '') + key;\n",
    "      \n",
    "      // mark field as present\n",
    "      fields[fullKey] = 1;\n",
    "      \n",
    "      // recurse into nested objects if valid\n",
    "      if (obj[key]?.constructor === Object) extractFields(obj[key], fullKey);\n",
    "    });\n",
    "  }\n",
    "\n",
    "  // iterate through documents in collection\n",
    "  db.clicks.find().forEach(extractFields);\n",
    "\n",
    "  // map fields to their unique value counts\n",
    "  let results = Object.keys(fields).map(field => ({\n",
    "  \n",
    "    // store field name\n",
    "    field,\n",
    "    \n",
    "    // count unique values\n",
    "    count: db.clicks.aggregate([\n",
    "    \n",
    "      // group by field\n",
    "      { $group: { _id: `$${field}` } },\n",
    "      \n",
    "      // count unique groups\n",
    "      { $group: { _id: null, count: { $sum: 1 } } }\n",
    "      \n",
    "    // get first result's count or 0 if empty\n",
    "    ]).toArray()[0]?.count || 0\n",
    "    \n",
    "  // sort by count in descending order\n",
    "  })).sort((a, b) => b.count - a.count);\n",
    "\n",
    "  // print ranked field counts\n",
    "  results.forEach((r, i) => print(`${i + 1}. ${r.field}: ${r.count}`));\n",
    "})();\n",
    "\"\"\"\n",
    "\n",
    "js_folder = JS_FOLDER\n",
    "js_filename = \"count_unique_values_dynamic\"\n",
    "\n",
    "js_file = save_js_commands(js_code, js_folder, js_filename)\n",
    "exe_file = f\"{js_folder}\\\\{js_filename}.js\""
   ]
  },
  {
   "cell_type": "code",
   "execution_count": 18,
   "id": "b4dc82c5-19d7-4d60-8469-cd02c6fbd74c",
   "metadata": {},
   "outputs": [],
   "source": [
    "load(\"C:/Users/patwh/Documents/js_scripts/count_unique_values_dynamic.js\")"
   ]
  },
  {
   "cell_type": "code",
   "execution_count": null,
   "id": "cf5df293-82b7-4e63-bce8-d0bd49693354",
   "metadata": {},
   "outputs": [],
   "source": [
    "# === Starting Unique Field Count ===\n",
    "# 1. _id: 6100000 unique values\n",
    "# 2. VisitDateTime: 6089023 unique values\n",
    "# 3. webClientID: 1091455 unique values\n",
    "# 4. user: 72162 unique values\n",
    "# 5. user.UserID: 34051 unique values\n",
    "# 6. user.City: 26260 unique values\n",
    "# 7. ProductID: 10938 unique values\n",
    "# 8. user.Country: 222 unique values\n",
    "# 9. device: 151 unique values\n",
    "# 10. device.Browser: 82 unique values\n",
    "# 11. device.OS: 18 unique values\n",
    "# 12. Activity: 2 unique values\n",
    "# === Done ===\n",
    "# true"
   ]
  },
  {
   "cell_type": "markdown",
   "id": "e82ae7a7-3428-431f-ba81-48eea064c9b6",
   "metadata": {},
   "source": [
    "# Get List of Unique Values for a Field"
   ]
  },
  {
   "cell_type": "markdown",
   "id": "b2756376-5dfe-438a-85b5-c9f007a5e449",
   "metadata": {},
   "source": [
    "### Get Unique Values for <code>device.Browser</code>"
   ]
  },
  {
   "cell_type": "code",
   "execution_count": null,
   "id": "0c4997d2-96c2-4a3a-a1ba-051dfcbaec99",
   "metadata": {},
   "outputs": [],
   "source": [
    "db.clicks.distinct(\"device.Browser\")"
   ]
  },
  {
   "cell_type": "code",
   "execution_count": null,
   "id": "7920c019-ccac-4873-9f3e-1092fbb2ce24",
   "metadata": {},
   "outputs": [],
   "source": [
    "# [\n",
    "#   'AdsBot-Google',\n",
    "#   'AhrefsBot',\n",
    "#   'Amazon Silk',\n",
    "#   'Android',\n",
    "#   'AppEngine-Google',\n",
    "#   'Apple Mail',\n",
    "#   'BingPreview',\n",
    "#   'BlackBerry WebKit',\n",
    "#   'Chrome',\n",
    "#   'Chrome Mobile',\n",
    "#   'Chrome Mobile WebView',\n",
    "#   'Chrome Mobile iOS',\n",
    "#   'Chromium',\n",
    "#   'Coc Coc',\n",
    "#   'Coveobot',\n",
    "#   'Crosswalk',\n",
    "#   'Dragon',\n",
    "#   'DuckDuckBot',\n",
    "#   'Edge',\n",
    "#   'Edge Mobile',\n",
    "#   'Electron',\n",
    "#   'Epiphany',\n",
    "#   'Facebook',\n",
    "#   'FacebookBot',\n",
    "#   'Firefox',\n",
    "#   'Firefox Mobile',\n",
    "#   'Firefox iOS',\n",
    "#   'HbbTV',\n",
    "#   'HeadlessChrome',\n",
    "#   'HubSpot Crawler',\n",
    "#   'IE',\n",
    "#   'IE Mobile',\n",
    "#   'Iceweasel',\n",
    "#   'Iron',\n",
    "#   'JobBot',\n",
    "#   'Jooblebot',\n",
    "#   'K-Meleon',\n",
    "#   'Kindle',\n",
    "#   'Konqueror',\n",
    "#   'Magus Bot',\n",
    "#   'Mail.ru Chromium Browser',\n",
    "#   'Maxthon',\n",
    "#   'Mobile Safari',\n",
    "#   'Mobile Safari UI/WKWebView',\n",
    "#   'MobileIron',\n",
    "#   'NetFront',\n",
    "#   'Netscape',\n",
    "#   'Opera',\n",
    "#   'Opera Coast',\n",
    "#   'Opera Mini',\n",
    "#   'Opera Mobile',\n",
    "#   'Other',\n",
    "#   'PagePeeker',\n",
    "#   'Pale Moon',\n",
    "#   'PetalBot',\n",
    "#   'PhantomJS',\n",
    "#   'Pinterest',\n",
    "#   'Puffin',\n",
    "#   'Python Requests',\n",
    "#   'QQ Browser',\n",
    "#   'QQ Browser Mobile',\n",
    "#   'Radius Compliance Bot',\n",
    "#   'Safari',\n",
    "#   'Samsung Internet',\n",
    "#   'SeaMonkey',\n",
    "#   'Seekport Crawler',\n",
    "#   'SiteScoreBot',\n",
    "#   'Sleipnir',\n",
    "#   'Sogou Explorer',\n",
    "#   'Thunderbird',\n",
    "#   'UC Browser',\n",
    "#   'Vivaldi',\n",
    "#   'WebKit Nightly',\n",
    "#   'WordPress',\n",
    "#   'Yandex Browser',\n",
    "#   'YandexAccessibilityBot',\n",
    "#   'YandexBot',\n",
    "#   'YandexSearch',\n",
    "#   'Yeti',\n",
    "#   'YisouSpider',\n",
    "#   'moatbot',\n",
    "#   'net/bot'\n",
    "# ]"
   ]
  },
  {
   "cell_type": "markdown",
   "id": "fd1d6c88-3eab-41bb-be94-42fa3a6a1ce0",
   "metadata": {},
   "source": [
    "# Get Count of Unique Values for a Field"
   ]
  },
  {
   "cell_type": "code",
   "execution_count": 29,
   "id": "d8859dcb-1e10-4a95-b281-217a2fadd1d9",
   "metadata": {},
   "outputs": [
    {
     "name": "stdout",
     "output_type": "stream",
     "text": [
      "✅ JavaScript code saved successfully to: C:\\Users\\patwh\\Documents\\js_scripts/count_unique_values_for_field.js\n"
     ]
    }
   ],
   "source": [
    "# count_unique_values_for_field.js\n",
    "\n",
    "js_code = \"\"\"\n",
    "(function() {\n",
    "  // get clicks collection\n",
    "  const collection = db.getSiblingDB('clickstream').clicks;\n",
    "  \n",
    "  // define aggregation pipeline\n",
    "  const pipeline = [\n",
    "  \n",
    "    // group by Browser, count occurrences\n",
    "    { $group: { _id: \"$device.Browser\", count: { $sum: 1 } } },\n",
    "    \n",
    "    // sort by count descending\n",
    "    { $sort: { count: -1 } }\n",
    "  ];\n",
    "  \n",
    "  // run pipeline, get results\n",
    "  const result = collection.aggregate(pipeline).toArray();\n",
    "  \n",
    "  // print each browser and count\n",
    "  result.forEach(doc => {\n",
    "    print(`${doc._id}: ${doc.count}`);\n",
    "  });\n",
    "})();\n",
    "\"\"\"\n",
    "\n",
    "js_folder = JS_FOLDER\n",
    "js_filename = \"count_unique_values_for_field\"\n",
    "\n",
    "js_file = save_js_commands(js_code, js_folder, js_filename)"
   ]
  },
  {
   "cell_type": "code",
   "execution_count": 6,
   "id": "7315cef6-b8b4-4eff-b621-0743cccd6702",
   "metadata": {},
   "outputs": [],
   "source": [
    "load(\"C:/Users/patwh/Documents/js_scripts/count_unique_values_for_field.js\")"
   ]
  },
  {
   "cell_type": "code",
   "execution_count": null,
   "id": "ca61504a-088d-441d-83ec-334be45b4949",
   "metadata": {},
   "outputs": [],
   "source": [
    "# Chrome: 4360498\n",
    "# Chrome Mobile: 788991\n",
    "# Firefox: 388766\n",
    "# Safari: 204343\n",
    "# Mobile Safari: 93241\n",
    "# HeadlessChrome: 76595\n",
    "# Opera: 62522\n",
    "# Chrome Mobile iOS: 28031\n",
    "# Chrome Mobile WebView: 25381\n",
    "# Samsung Internet: 19804\n",
    "# Firefox Mobile: 7040\n",
    "# Yandex Browser: 6265\n",
    "# Facebook: 5874\n",
    "# Opera Mobile: 5509\n",
    "# Edge: 5180\n",
    "# Coc Coc: 4506\n",
    "# IE: 3381\n",
    "# Mobile Safari UI/WKWebView: 3038\n",
    "# Apple Mail: 3038\n",
    "# UC Browser: 2142\n",
    "# Firefox iOS: 884\n",
    "# Chromium: 629\n",
    "# QQ Browser: 498\n",
    "# Jooblebot: 466\n",
    "# PhantomJS: 440\n",
    "# Amazon Silk: 376\n",
    "# AdsBot-Google: 312\n",
    "# Pinterest: 288\n",
    "# AhrefsBot: 229\n",
    "# moatbot: 216\n",
    "# JobBot: 208\n",
    "# Sogou Explorer: 200\n",
    "# Iron: 156\n",
    "# Maxthon: 139\n",
    "# Dragon: 105\n",
    "# Pale Moon: 95\n",
    "# PetalBot: 82\n",
    "# Other: 58\n",
    "# YandexBot: 56\n",
    "# Vivaldi: 43\n",
    "# YandexAccessibilityBot: 41\n",
    "# BingPreview: 33\n",
    "# Crosswalk: 27\n",
    "# Thunderbird: 23\n",
    "# IE Mobile: 22\n",
    "# AppEngine-Google: 22\n",
    "# Android: 19\n",
    "# Edge Mobile: 17\n",
    "# Puffin: 16\n",
    "# QQ Browser Mobile: 15\n",
    "# Epiphany: 15\n",
    "# Electron: 13\n",
    "# FacebookBot: 12\n",
    "# Opera Mini: 12\n",
    "# Yeti: 9\n",
    "# WordPress: 9\n",
    "# Coveobot: 8\n",
    "# PagePeeker: 6\n",
    "# Sleipnir: 6\n",
    "# SeaMonkey: 5\n",
    "# Mail.ru Chromium Browser: 5\n",
    "# SiteScoreBot: 4\n",
    "# HbbTV: 4\n",
    "# Seekport Crawler: 3\n",
    "# MobileIron: 3\n",
    "# Kindle: 3\n",
    "# Netscape: 2\n",
    "# Python Requests: 2\n",
    "# Iceweasel: 2\n",
    "# BlackBerry WebKit: 2\n",
    "# K-Meleon: 2\n",
    "# Radius Compliance Bot: 2\n",
    "# Opera Coast: 2\n",
    "# HubSpot Crawler: 1\n",
    "# NetFront: 1\n",
    "# DuckDuckBot: 1\n",
    "# WebKit Nightly: 1\n",
    "# net/bot: 1\n",
    "# Konqueror: 1\n",
    "# YisouSpider: 1\n",
    "# YandexSearch: 1\n",
    "# Magus Bot: 1"
   ]
  },
  {
   "cell_type": "markdown",
   "id": "b993fb2b-bb8f-4556-9602-48f406aadcfe",
   "metadata": {},
   "source": [
    "# CRUD Operations"
   ]
  },
  {
   "cell_type": "markdown",
   "id": "6ae2e6fd-a159-45fb-b9b8-826e92ba1af1",
   "metadata": {},
   "source": [
    "## Delete and Create"
   ]
  },
  {
   "cell_type": "markdown",
   "id": "8384cd59-ea53-4162-a905-64158938af5d",
   "metadata": {},
   "source": [
    "### Delete the Last Record"
   ]
  },
  {
   "cell_type": "markdown",
   "id": "4c01d191-d040-4797-a4ff-766f71e5b4d3",
   "metadata": {},
   "source": [
    "Remove the last record from <code>clicks</code> and re-insert it.\n",
    "\n",
    "First capture in variable:"
   ]
  },
  {
   "cell_type": "code",
   "execution_count": null,
   "id": "36d47b05-a5c1-4ffb-b275-2318e3450c5e",
   "metadata": {},
   "outputs": [],
   "source": [
    "var lastDoc = db.clicks.find().sort({ _id: -1 }).limit(1).next();"
   ]
  },
  {
   "cell_type": "code",
   "execution_count": null,
   "id": "7ba6e6ea-b016-4e75-a56e-2e5e5d8c4e79",
   "metadata": {},
   "outputs": [],
   "source": [
    "# {\n",
    "#   _id: ObjectId('60df129dad74d9467ceebd51'),\n",
    "#   webClientID: 'WI100000118333',\n",
    "#   VisitDateTime: ISODate('2018-05-26T11:51:44.263Z'),\n",
    "#   ProductID: 'Pr101251',\n",
    "#   Activity: 'click',\n",
    "#   device: { Browser: 'Chrome', OS: 'Windows' },\n",
    "#   user: { City: 'Vijayawada', Country: 'India' }\n",
    "# }"
   ]
  },
  {
   "cell_type": "markdown",
   "id": "54644046-0a2d-4af4-bfc0-9114b3b8fba5",
   "metadata": {},
   "source": [
    "Delete it:"
   ]
  },
  {
   "cell_type": "code",
   "execution_count": null,
   "id": "0f24d34a-7cf8-45f4-8b70-d7bcfdd9d247",
   "metadata": {},
   "outputs": [],
   "source": [
    "db.clicks.deleteOne({ _id: lastDoc._id });"
   ]
  },
  {
   "cell_type": "code",
   "execution_count": null,
   "id": "162c50c3-d1f4-45cc-b5bf-914f34f5212e",
   "metadata": {},
   "outputs": [],
   "source": [
    "# { acknowledged: true, deletedCount: 1 }"
   ]
  },
  {
   "cell_type": "markdown",
   "id": "5141d169-a6ff-4c76-be67-2a7269eabe2b",
   "metadata": {},
   "source": [
    "### Insert it Back In"
   ]
  },
  {
   "cell_type": "code",
   "execution_count": null,
   "id": "5b6b4c8d-ee5b-4873-9f38-9264cce88456",
   "metadata": {},
   "outputs": [],
   "source": [
    "db.clicks.insertOne(lastDoc)"
   ]
  },
  {
   "cell_type": "code",
   "execution_count": null,
   "id": "e31b5d39-8a43-4f92-8d8e-cf6ec48b4a36",
   "metadata": {},
   "outputs": [],
   "source": [
    "# {\n",
    "#   acknowledged: true,\n",
    "#   insertedId: ObjectId('60df129dad74d9467ceebd51')\n",
    "# }"
   ]
  },
  {
   "cell_type": "markdown",
   "id": "26ead9ce-8f1c-45b3-a692-4863bee709db",
   "metadata": {},
   "source": [
    "### Delete the Last 5 Records"
   ]
  },
  {
   "cell_type": "code",
   "execution_count": null,
   "id": "0d44be34-08dc-49e6-abeb-a2b7f5f52d68",
   "metadata": {},
   "outputs": [],
   "source": [
    "var lastDocs = db.clicks.find().sort({ _id: -1 }).limit(5).toArray();\n",
    "var idsToDelete = lastDocs.map(doc => doc._id);"
   ]
  },
  {
   "cell_type": "code",
   "execution_count": null,
   "id": "1badb120-2a5d-4fec-9fe8-3877a0f12d1d",
   "metadata": {},
   "outputs": [],
   "source": [
    "db.clicks.deleteMany({ _id: { $in: idsToDelete } });"
   ]
  },
  {
   "cell_type": "code",
   "execution_count": null,
   "id": "40957203-0fac-4db7-b64e-2543d72b7286",
   "metadata": {},
   "outputs": [],
   "source": [
    "# { acknowledged: true, deletedCount: 5 }"
   ]
  },
  {
   "cell_type": "markdown",
   "id": "a98bd77a-d4fb-4ca0-a8b5-0f818a176b9e",
   "metadata": {},
   "source": [
    "### Insert Them Back In"
   ]
  },
  {
   "cell_type": "code",
   "execution_count": null,
   "id": "be438188-28a5-4b8a-8669-b9727d7d3849",
   "metadata": {},
   "outputs": [],
   "source": [
    "db.clicks.insertMany(lastDocs);"
   ]
  },
  {
   "cell_type": "code",
   "execution_count": null,
   "id": "130a522b-8dde-4004-be15-df19533cc30e",
   "metadata": {},
   "outputs": [],
   "source": [
    "# {\n",
    "#   acknowledged: true,\n",
    "#   insertedIds: {\n",
    "#     '0': ObjectId('60df129dad74d9467ceebd51'),\n",
    "#     '1': ObjectId('60df129dad74d9467ceebd50'),\n",
    "#     '2': ObjectId('60df129dad74d9467ceebd4f'),\n",
    "#     '3': ObjectId('60df129dad74d9467ceebd4e'),\n",
    "#     '4': ObjectId('60df129dad74d9467ceebd4d')\n",
    "#   }\n",
    "# }"
   ]
  },
  {
   "cell_type": "markdown",
   "id": "d06d78ee-b62a-4e67-99d4-978c0cfe6462",
   "metadata": {},
   "source": [
    "## Read"
   ]
  },
  {
   "cell_type": "markdown",
   "id": "af7baafa-a33f-4162-8936-dc13e9801802",
   "metadata": {},
   "source": [
    "### Filter to <code>_id</code> Equal to <code>60df129dad74d9467ceebd51</code>"
   ]
  },
  {
   "cell_type": "code",
   "execution_count": null,
   "id": "ef235a59-8a89-4e42-9ea1-287e89ea397b",
   "metadata": {},
   "outputs": [],
   "source": [
    "db.clicks.findOne({ _id: ObjectId(\"60df129dad74d9467ceebd51\") });"
   ]
  },
  {
   "cell_type": "code",
   "execution_count": null,
   "id": "d2f6f27e-44b4-4fc4-89b4-23cdff00160a",
   "metadata": {},
   "outputs": [],
   "source": [
    "# {\n",
    "#   _id: ObjectId('60df129dad74d9467ceebd51'),\n",
    "#   webClientID: 'WI100000118333',\n",
    "#   VisitDateTime: ISODate('2018-05-26T11:51:44.263Z'),\n",
    "#   ProductID: 'Pr101251',\n",
    "#   Activity: 'click',\n",
    "#   device: { Browser: 'Chrome', OS: 'Windows' },\n",
    "#   user: { City: 'Vijayawada', Country: 'India' }\n",
    "# }"
   ]
  },
  {
   "cell_type": "markdown",
   "id": "8a62ea38-1a5d-4527-8615-7c8a0d0958e9",
   "metadata": {},
   "source": [
    "### Find First Record Where <code>device.Browser</code> is not Firefox"
   ]
  },
  {
   "cell_type": "code",
   "execution_count": null,
   "id": "acbd5740-1d9c-4283-a7e6-f0229a0d56a5",
   "metadata": {},
   "outputs": [],
   "source": [
    "db.clicks.findOne({ \"device.Browser\": \"Firefox\" });"
   ]
  },
  {
   "cell_type": "code",
   "execution_count": null,
   "id": "ea7b6302-9734-4aef-92fd-a01cd75a6d56",
   "metadata": {},
   "outputs": [],
   "source": [
    "# {\n",
    "#   _id: ObjectId('60df1029ad74d9467c91a932'),\n",
    "#   webClientID: 'WI100000244987',\n",
    "#   VisitDateTime: ISODate('2018-05-25T04:51:14.179Z'),\n",
    "#   ProductID: 'Pr100037',\n",
    "#   Activity: 'click',\n",
    "#   device: { Browser: 'Firefox', OS: 'Windows' },\n",
    "#   user: { City: 'Colombo', Country: 'Sri Lanka' }\n",
    "# }"
   ]
  },
  {
   "cell_type": "markdown",
   "id": "06b7fef5-96c2-49de-8b3b-4ad36fb152a7",
   "metadata": {},
   "source": [
    "### Find First 2 Records Where <code>device.Browser</code> is not Firefox"
   ]
  },
  {
   "cell_type": "code",
   "execution_count": null,
   "id": "b1738358-b62e-4caf-bad9-414aa485a535",
   "metadata": {},
   "outputs": [],
   "source": [
    "db.clicks.find({ \"device.Browser\": { $ne: \"Firefox\" } }).limit(2);"
   ]
  },
  {
   "cell_type": "code",
   "execution_count": null,
   "id": "b217a0cb-a25b-4c90-a92b-a25d9ea5277d",
   "metadata": {},
   "outputs": [],
   "source": [
    "# [\n",
    "#   {\n",
    "#     _id: ObjectId('60df1029ad74d9467c91a933'),\n",
    "#     webClientID: 'WI10000061461',\n",
    "#     VisitDateTime: ISODate('2018-05-25T05:06:03.700Z'),\n",
    "#     ProductID: 'Pr100872',\n",
    "#     Activity: 'pageload',\n",
    "#     device: { Browser: 'Chrome Mobile', OS: 'Android' },\n",
    "#     user: {}\n",
    "#   },\n",
    "#   {\n",
    "#     _id: ObjectId('60df1029ad74d9467c91a934'),\n",
    "#     webClientID: 'WI10000075748',\n",
    "#     VisitDateTime: ISODate('2018-05-17T11:51:09.265Z'),\n",
    "#     ProductID: 'Pr100457',\n",
    "#     Activity: 'click',\n",
    "#     device: { Browser: 'Chrome', OS: 'Linux' },\n",
    "#     user: { City: 'Ottawa', Country: 'Canada' }\n",
    "#   }\n",
    "# ]"
   ]
  },
  {
   "cell_type": "markdown",
   "id": "03838ca5-7467-486d-9e43-14b43e4af8ef",
   "metadata": {},
   "source": [
    "### Find First 2 Records Where <code>VisitDateTime</code> > 5/20/2018"
   ]
  },
  {
   "cell_type": "code",
   "execution_count": null,
   "id": "4eb39808-b53b-48af-a7ac-11714092abb7",
   "metadata": {},
   "outputs": [],
   "source": [
    "db.clicks.find({\n",
    "  VisitDateTime: { $gt: new Date(\"2018-05-20\") }\n",
    "}).limit(2);"
   ]
  },
  {
   "cell_type": "code",
   "execution_count": null,
   "id": "33a68686-0dec-4ee1-94f0-a7fd29fcc7c8",
   "metadata": {},
   "outputs": [],
   "source": [
    "# [\n",
    "#   {\n",
    "#     _id: ObjectId('60df1029ad74d9467c91a932'),\n",
    "#     webClientID: 'WI100000244987',\n",
    "#     VisitDateTime: ISODate('2018-05-25T04:51:14.179Z'),\n",
    "#     ProductID: 'Pr100037',\n",
    "#     Activity: 'click',\n",
    "#     device: { Browser: 'Firefox', OS: 'Windows' },\n",
    "#     user: { City: 'Colombo', Country: 'Sri Lanka' }\n",
    "#   },\n",
    "#   {\n",
    "#     _id: ObjectId('60df1029ad74d9467c91a933'),\n",
    "#     webClientID: 'WI10000061461',\n",
    "#     VisitDateTime: ISODate('2018-05-25T05:06:03.700Z'),\n",
    "#     ProductID: 'Pr100872',\n",
    "#     Activity: 'pageload',\n",
    "#     device: { Browser: 'Chrome Mobile', OS: 'Android' },\n",
    "#     user: {}\n",
    "#   }\n",
    "# ]"
   ]
  },
  {
   "cell_type": "markdown",
   "id": "1a48402d-afc3-434e-93fc-0123372f2b57",
   "metadata": {},
   "source": [
    "### Get the Minimum and Maximum <code>VisitDateTime</code>"
   ]
  },
  {
   "cell_type": "code",
   "execution_count": null,
   "id": "3a0731d2-ce87-4936-b67c-aeaa1c5006bb",
   "metadata": {},
   "outputs": [],
   "source": [
    "db.clicks.aggregate([\n",
    "  { $group: {\n",
    "      _id: null,\n",
    "      minVisitDateTime: { $min: \"$VisitDateTime\" },\n",
    "      maxVisitDateTime: { $max: \"$VisitDateTime\" }\n",
    "    } }\n",
    "]);"
   ]
  },
  {
   "cell_type": "code",
   "execution_count": null,
   "id": "fa649a28-d56b-4980-9688-4d94da0e1c39",
   "metadata": {},
   "outputs": [],
   "source": [
    "# [\n",
    "#   {\n",
    "#     _id: null,\n",
    "#     minVisitDateTime: ISODate('2018-05-07T00:00:01.190Z'),\n",
    "#     maxVisitDateTime: ISODate('2018-05-27T23:59:59.576Z')\n",
    "#   }\n",
    "# ]"
   ]
  },
  {
   "cell_type": "markdown",
   "id": "d4e280b1-e0f4-43bb-ac59-d6a3613f1e60",
   "metadata": {},
   "source": [
    "### Get Count of Records Where <code>VisitDateTime</code> is Greater Than 5/20/2018"
   ]
  },
  {
   "cell_type": "code",
   "execution_count": null,
   "id": "15f56452-a791-4620-8f46-d9b61e0c5ca9",
   "metadata": {},
   "outputs": [],
   "source": [
    "db.clicks.countDocuments({\n",
    "  VisitDateTime: { $gt: new Date(\"2018-05-20\") }\n",
    "});"
   ]
  },
  {
   "cell_type": "code",
   "execution_count": null,
   "id": "d6fec191-229a-4086-a888-3487ef4794ab",
   "metadata": {},
   "outputs": [],
   "source": [
    "# 2453050"
   ]
  },
  {
   "cell_type": "markdown",
   "id": "7771894b-9ac0-4331-814f-53c9098ce895",
   "metadata": {},
   "source": [
    "### Get Count of Records Where <code>user.Country</code> is <code>India</code> or <code>United States</code>"
   ]
  },
  {
   "cell_type": "markdown",
   "id": "72d415c4-fe5d-482f-aed2-06b6fcbb63e8",
   "metadata": {},
   "source": [
    "#### Using <code>$or</code>"
   ]
  },
  {
   "cell_type": "code",
   "execution_count": null,
   "id": "cd878e7f-526b-4285-875c-f99fa3f58e64",
   "metadata": {},
   "outputs": [],
   "source": [
    "db.clicks.countDocuments({\n",
    "  $or: [\n",
    "    { \"user.Country\": \"India\" },\n",
    "    { \"user.Country\": \"United States\" }\n",
    "  ]\n",
    "});"
   ]
  },
  {
   "cell_type": "code",
   "execution_count": null,
   "id": "1974f175-4edd-4065-9b89-a6e7bd5900be",
   "metadata": {},
   "outputs": [],
   "source": [
    "# 3497232"
   ]
  },
  {
   "cell_type": "markdown",
   "id": "294902f2-34a1-458b-b99b-24fcfff3e9ba",
   "metadata": {},
   "source": [
    "#### Using <code>$in</code>"
   ]
  },
  {
   "cell_type": "code",
   "execution_count": null,
   "id": "b182aba8-68fd-4e2e-a95a-57e9f8691457",
   "metadata": {},
   "outputs": [],
   "source": [
    "db.clicks.countDocuments({\n",
    "  \"user.Country\": { $in: [\"India\", \"United States\"] }\n",
    "});"
   ]
  },
  {
   "cell_type": "code",
   "execution_count": null,
   "id": "d7c17ffa-b53c-410c-bb0b-787ee33da3f5",
   "metadata": {},
   "outputs": [],
   "source": [
    "# 3497232"
   ]
  },
  {
   "cell_type": "markdown",
   "id": "d6d4bbbb-50e4-4d3d-841c-a2adbb4f9b2c",
   "metadata": {},
   "source": [
    "### Get Count of Records Where <code>user.Country</code> is Neither <code>India</code> Nor <code>United States</code>"
   ]
  },
  {
   "cell_type": "markdown",
   "id": "cbcd7aad-616d-4658-a060-e6ee94254be4",
   "metadata": {},
   "source": [
    "#### Using <code>$and</code>"
   ]
  },
  {
   "cell_type": "code",
   "execution_count": null,
   "id": "bb524b31-9629-4c68-85d9-863b66f9175b",
   "metadata": {},
   "outputs": [],
   "source": [
    "db.clicks.countDocuments({\n",
    "  $and: [\n",
    "    { \"user.Country\": { $ne: \"India\" } },\n",
    "    { \"user.Country\": { $ne: \"United States\" } }\n",
    "  ]\n",
    "});"
   ]
  },
  {
   "cell_type": "code",
   "execution_count": null,
   "id": "d2f587d2-7606-48df-b0a7-774f4f4c3804",
   "metadata": {},
   "outputs": [],
   "source": [
    "# 2602768"
   ]
  },
  {
   "cell_type": "markdown",
   "id": "320ee885-5567-464d-a38d-4d21a6cc5f9a",
   "metadata": {},
   "source": [
    "#### Using `$not` and `$in`"
   ]
  },
  {
   "cell_type": "code",
   "execution_count": null,
   "id": "25390dcb-e3d7-4baa-81df-6d783ae1c258",
   "metadata": {},
   "outputs": [],
   "source": [
    "db.clicks.countDocuments({\n",
    "  \"user.Country\": { $not: { $in: [\"India\", \"United States\"] } }\n",
    "});"
   ]
  },
  {
   "cell_type": "code",
   "execution_count": null,
   "id": "7f4ae892-26ac-4017-9823-21dd9635bd53",
   "metadata": {},
   "outputs": [],
   "source": [
    "# 2602768"
   ]
  },
  {
   "cell_type": "markdown",
   "id": "23e5479d-cfe7-459a-819d-a74b5278a305",
   "metadata": {},
   "source": [
    "#### Using <code>$nin</code>"
   ]
  },
  {
   "cell_type": "code",
   "execution_count": null,
   "id": "771e40e3-4303-48a5-b6c8-0f35074695e3",
   "metadata": {},
   "outputs": [],
   "source": [
    "db.clicks.countDocuments({\n",
    "  \"user.Country\": { $nin: [\"India\", \"United States\"] }\n",
    "});"
   ]
  },
  {
   "cell_type": "code",
   "execution_count": null,
   "id": "a6d0ca6f-ab03-4912-9de5-a0839819149e",
   "metadata": {},
   "outputs": [],
   "source": [
    "# 2602768"
   ]
  },
  {
   "cell_type": "markdown",
   "id": "bba4c88d-6692-4515-8d91-8c1e4da07ce8",
   "metadata": {},
   "source": [
    "### Get Count of Records with <code>user.UserID</code>"
   ]
  },
  {
   "cell_type": "code",
   "execution_count": null,
   "id": "6c624212-c840-4560-9c3a-5730da8c641a",
   "metadata": {},
   "outputs": [],
   "source": [
    "db.clicks.countDocuments({\n",
    "  \"user.UserID\": { $exists: true, $ne: null }\n",
    "});"
   ]
  },
  {
   "cell_type": "code",
   "execution_count": null,
   "id": "3e3aca80-0b0f-4d46-b35e-244df2b65da8",
   "metadata": {},
   "outputs": [],
   "source": [
    "# 602293"
   ]
  },
  {
   "cell_type": "markdown",
   "id": "fc8e938e-7eaa-4d9c-83fa-cf0508cd7ec7",
   "metadata": {},
   "source": [
    "## Update"
   ]
  },
  {
   "cell_type": "markdown",
   "id": "31b73569-3a10-4499-bfe3-7ead9fe8133b",
   "metadata": {},
   "source": [
    "### Update <code>device.Browser</code> for Record <code>60df129dad74d9467ceebd51</code> to <code>Firefox</code>"
   ]
  },
  {
   "cell_type": "code",
   "execution_count": null,
   "id": "3cef9d74-6df1-4442-ad74-bde6d214cbf9",
   "metadata": {},
   "outputs": [],
   "source": [
    "db.clicks.updateOne(\n",
    "  { _id: ObjectId(\"60df129dad74d9467ceebd51\") },\n",
    "  { $set: { \"device.Browser\": \"Firefox\" } }\n",
    ");"
   ]
  },
  {
   "cell_type": "code",
   "execution_count": null,
   "id": "0a036d02-18e8-4fb2-9553-703271b1121b",
   "metadata": {},
   "outputs": [],
   "source": [
    "# {\n",
    "  # acknowledged: true,\n",
    "  # insertedId: null,\n",
    "  # matchedCount: 1,\n",
    "  # modifiedCount: 1,\n",
    "  # upsertedCount: 0\n",
    "# }"
   ]
  },
  {
   "cell_type": "markdown",
   "id": "f056d123-57e2-4fca-9c71-afb65c40eeb5",
   "metadata": {},
   "source": [
    "Set it back to original state for accuracy:"
   ]
  },
  {
   "cell_type": "code",
   "execution_count": null,
   "id": "7ecbd4d1-626e-41c4-bf21-281856c63917",
   "metadata": {},
   "outputs": [],
   "source": [
    "db.clicks.updateOne(\n",
    "  { _id: ObjectId(\"60df129dad74d9467ceebd51\") },\n",
    "  { $set: { \"device.Browser\": \"Chrome\" } }\n",
    ");"
   ]
  },
  {
   "cell_type": "code",
   "execution_count": null,
   "id": "760f72fb-f44a-4f8b-adc3-991b6d7e0d62",
   "metadata": {},
   "outputs": [],
   "source": [
    "# {\n",
    "  # acknowledged: true,\n",
    "  # insertedId: null,\n",
    "  # matchedCount: 1,\n",
    "  # modifiedCount: 1,\n",
    "  # upsertedCount: 0\n",
    "# }"
   ]
  },
  {
   "cell_type": "markdown",
   "id": "cf73009f-4ab8-4937-bd86-83c580ab852e",
   "metadata": {},
   "source": [
    "### Update <code>device.Browser</code> Records to be <code>Firefox</code> if Set to <code>Firefox iOS</code>"
   ]
  },
  {
   "cell_type": "code",
   "execution_count": null,
   "id": "f95c4165-d240-4bf3-a787-77609e321155",
   "metadata": {},
   "outputs": [],
   "source": [
    "# db.clicks.updateMany(\n",
    "#   { \"device.Browser\": \"Firefox iOS\" },\n",
    "#   { $set: { \"device.Browser\": \"Firefox\" } }\n",
    "# );"
   ]
  },
  {
   "cell_type": "markdown",
   "id": "df162b0c-93c7-496a-9ce4-22725b7ca80d",
   "metadata": {},
   "source": [
    "## Create New Field"
   ]
  },
  {
   "cell_type": "markdown",
   "id": "88754fbe-ebd4-462b-b4b0-61af5efb6c10",
   "metadata": {},
   "source": [
    "### Add Field Called <code>NewField</code> to First 1000 Records, Set Value to <code>Default</code>"
   ]
  },
  {
   "cell_type": "code",
   "execution_count": null,
   "id": "e5f34c11-8036-4ce2-96d3-e2f89c1a3750",
   "metadata": {},
   "outputs": [],
   "source": [
    "db.clicks.find().limit(1000).forEach(doc => {\n",
    "  db.clicks.updateOne(\n",
    "    { _id: doc._id },\n",
    "    { $set: { NewField: \"Default\" } }\n",
    "  );\n",
    "});"
   ]
  },
  {
   "cell_type": "code",
   "execution_count": null,
   "id": "25f08104-289f-4e6a-87e8-f5a5e2079df5",
   "metadata": {},
   "outputs": [],
   "source": [
    "db.clicks.findOne({ NewField: \"Default\" });"
   ]
  },
  {
   "cell_type": "code",
   "execution_count": null,
   "id": "9555f464-ef3c-4de3-a1cd-80fad671daa3",
   "metadata": {},
   "outputs": [],
   "source": [
    "# {\n",
    "#   _id: ObjectId('60df1029ad74d9467c91a932'),\n",
    "#   webClientID: 'WI100000244987',\n",
    "#   VisitDateTime: ISODate('2018-05-25T04:51:14.179Z'),\n",
    "#   ProductID: 'Pr100037',\n",
    "#   Activity: 'click',\n",
    "#   device: { Browser: 'Firefox', OS: 'Windows' },\n",
    "#   user: { City: 'Colombo', Country: 'Sri Lanka' },\n",
    "#   NewField: 'Default'\n",
    "# }"
   ]
  },
  {
   "cell_type": "markdown",
   "id": "447b4862-a2a1-468a-9d07-bf0b72ec7d10",
   "metadata": {},
   "source": [
    "### Remove the Added Field"
   ]
  },
  {
   "cell_type": "code",
   "execution_count": null,
   "id": "940c1a8e-91ed-4376-a6d4-e0bb481b9f48",
   "metadata": {},
   "outputs": [],
   "source": [
    "db.clicks.updateMany(\n",
    "  { NewField: { $exists: true } },\n",
    "  { $unset: { NewField: \"\" } }\n",
    ");"
   ]
  },
  {
   "cell_type": "code",
   "execution_count": null,
   "id": "8c84aa3c-a1ae-4786-ab6b-d4331514af3e",
   "metadata": {},
   "outputs": [],
   "source": [
    "# {\n",
    "#   acknowledged: true,\n",
    "#   insertedId: null,\n",
    "#   matchedCount: 1000,\n",
    "#   modifiedCount: 1000,\n",
    "#   upsertedCount: 0\n",
    "# }"
   ]
  },
  {
   "cell_type": "markdown",
   "id": "71103bf4-4aa7-462d-95ad-81ce31334499",
   "metadata": {},
   "source": [
    "# Indexes"
   ]
  },
  {
   "cell_type": "markdown",
   "id": "8816bd2c-db06-4da6-8cd6-1fe48aaa5e40",
   "metadata": {},
   "source": [
    "## View Indexes"
   ]
  },
  {
   "cell_type": "code",
   "execution_count": null,
   "id": "31159613-1dba-4d74-8042-25600d7f3482",
   "metadata": {},
   "outputs": [],
   "source": [
    "db.clicks.getIndexes()"
   ]
  },
  {
   "cell_type": "code",
   "execution_count": null,
   "id": "80c9b7f1-00f1-4c73-bda5-648045b052ab",
   "metadata": {},
   "outputs": [],
   "source": [
    "# [ { v: 2, key: { _id: 1 }, name: '_id_' } ]"
   ]
  },
  {
   "cell_type": "code",
   "execution_count": null,
   "id": "c4634011-01b8-4792-aa33-952010fec0e9",
   "metadata": {},
   "outputs": [],
   "source": [
    "db.clicks.metadata.findOne();"
   ]
  },
  {
   "cell_type": "code",
   "execution_count": null,
   "id": "525b75ed-5674-40c4-923c-91823bc9fce2",
   "metadata": {},
   "outputs": [],
   "source": [
    "# {\n",
    "#   _id: ObjectId('6837ada071d28360c34516c3'),\n",
    "#   indexes: [ { v: 2, key: { _id: 1 }, name: '_id_' } ],\n",
    "#   uuid: 'ee6da5fe5bdf42b2bc3cecee40723af6',\n",
    "#   collectionName: 'clicks'\n",
    "# }"
   ]
  },
  {
   "cell_type": "markdown",
   "id": "d9837a89-a4e4-4f2f-bac3-d6fd16d62f66",
   "metadata": {},
   "source": [
    "## Create Indexes"
   ]
  },
  {
   "cell_type": "code",
   "execution_count": 1,
   "id": "d837b682-ec35-406d-a551-97322c59f8ae",
   "metadata": {},
   "outputs": [
    {
     "name": "stdout",
     "output_type": "stream",
     "text": [
      "device.OS_1\n"
     ]
    }
   ],
   "source": [
    "db.clicks.createIndex({ \"device.OS\": 1 })"
   ]
  },
  {
   "cell_type": "code",
   "execution_count": null,
   "id": "bc316020-b046-449a-bddc-f4882740d9c6",
   "metadata": {},
   "outputs": [],
   "source": [
    "# device.OS_1"
   ]
  },
  {
   "cell_type": "code",
   "execution_count": null,
   "id": "cf9db584-18e5-462c-a022-4a925d96a51d",
   "metadata": {},
   "outputs": [],
   "source": [
    "db.clicks.createIndex({ \"device.Browser\": 1 })"
   ]
  },
  {
   "cell_type": "code",
   "execution_count": null,
   "id": "8448e2c5-af84-45bd-ad81-f1cad7182f39",
   "metadata": {},
   "outputs": [],
   "source": [
    "# device.Browser_1"
   ]
  }
 ],
 "metadata": {
  "kernelspec": {
   "display_name": "Python [conda env:base] *",
   "language": "python",
   "name": "conda-base-py"
  },
  "language_info": {
   "codemirror_mode": {
    "name": "ipython",
    "version": 3
   },
   "file_extension": ".py",
   "mimetype": "text/x-python",
   "name": "python",
   "nbconvert_exporter": "python",
   "pygments_lexer": "ipython3",
   "version": "3.12.7"
  }
 },
 "nbformat": 4,
 "nbformat_minor": 5
}
