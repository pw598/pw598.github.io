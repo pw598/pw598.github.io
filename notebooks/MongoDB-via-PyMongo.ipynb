{
 "cells": [
  {
   "cell_type": "markdown",
   "id": "83da9091-441c-42e5-82ee-2cd4402ba881",
   "metadata": {},
   "source": [
    "# MongoDB via Mongo Shell"
   ]
  },
  {
   "cell_type": "code",
   "execution_count": 2,
   "id": "bc7a515d-8e59-463f-a54e-0aea95ff1df0",
   "metadata": {},
   "outputs": [],
   "source": [
    "from pymongo import MongoClient\n",
    "import pprint as pp\n",
    "from pymongo import ASCENDING, DESCENDING\n",
    "from bson.objectid import ObjectId\n",
    "from datetime import datetime"
   ]
  },
  {
   "cell_type": "markdown",
   "id": "52ef2979-9eb7-49f2-9294-58fe2879fbd4",
   "metadata": {},
   "source": [
    "# Outline\n",
    "\n",
    "- Establish Connection to Server\n",
    "- Show Databases\n",
    "- Import Data\n",
    "- Select Imported DB\n",
    "- Show Collections\n",
    "- Sample Documents\n",
    "- Get Record Counts\n",
    "- Get List of Distinct Fields\n",
    "- Get Number of Distinct Values by Field\n",
    "- Get List of Unique Values for a Field\n",
    "- Get Count of Unique Values by Value for a Field\n",
    "- CRUD Operations\n",
    "\t- Delete and Create\n",
    "\t- Read\n",
    "\t- Update\n",
    "- Indexes\n",
    "\t- View Indexes\n",
    "\t- Create Indexes"
   ]
  },
  {
   "cell_type": "markdown",
   "id": "0f73fab9-658c-4a10-8024-1997a63fe0cc",
   "metadata": {},
   "source": [
    "# Establish Connection to Server"
   ]
  },
  {
   "cell_type": "code",
   "execution_count": 3,
   "id": "379c40e7-b211-46c0-b0aa-477a8195b47f",
   "metadata": {},
   "outputs": [],
   "source": [
    "client = MongoClient(\"mongodb://localhost:27017/\")"
   ]
  },
  {
   "cell_type": "markdown",
   "id": "51c9e751-3b96-44f0-8ba8-97f526072008",
   "metadata": {},
   "source": [
    "# Show Databases"
   ]
  },
  {
   "cell_type": "code",
   "execution_count": 4,
   "id": "31ca00bf-eac7-4896-ae70-8bec6bbc4d36",
   "metadata": {},
   "outputs": [
    {
     "name": "stdout",
     "output_type": "stream",
     "text": [
      "['admin', 'clickstream', 'config', 'local']\n"
     ]
    }
   ],
   "source": [
    "print(client.list_database_names())"
   ]
  },
  {
   "cell_type": "markdown",
   "id": "cd850316-bae6-49d2-a716-1a980b9095c8",
   "metadata": {},
   "source": [
    "# Import Data"
   ]
  },
  {
   "cell_type": "markdown",
   "id": "aaf323fb-b39a-4b6d-b6ba-aaf7090ed215",
   "metadata": {},
   "source": [
    "### Drop <code>clickstream</code> if Exists"
   ]
  },
  {
   "cell_type": "code",
   "execution_count": 5,
   "id": "50bfbd79-c807-4a20-b9f0-c63deeacdf7d",
   "metadata": {},
   "outputs": [],
   "source": [
    "db_name = \"clickstream\"\n",
    "client.drop_database(db_name)"
   ]
  },
  {
   "cell_type": "markdown",
   "id": "0805b45d-6ea1-4787-9844-73137e6dd254",
   "metadata": {},
   "source": [
    "### Import From File"
   ]
  },
  {
   "cell_type": "code",
   "execution_count": null,
   "id": "6cff300e-d617-4513-a4ed-55efbc211f7f",
   "metadata": {},
   "outputs": [],
   "source": [
    "HOST = \"localhost\"\n",
    "PORT = \"27017\"\n",
    "DBNAME = \"clickstream\"\n",
    "IMPORT_FILE_FOLDER = r\"C:\\Users\\patwh\\Downloads\"\n",
    "BSON_FILE_NAME = \"clicks\"\n",
    "JSON_FILE_NAME = \"clicks.metadata\"\n",
    "bson_file = f\"{IMPORT_FILE_FOLDER}\\\\{BSON_FILE_NAME}.bson\"\n",
    "json_file = f\"{IMPORT_FILE_FOLDER}\\\\{JSON_FILE_NAME}.json\"\n",
    "collection_bson = BSON_FILE_NAME\n",
    "collection_json = JSON_FILE_NAME\n",
    "\n",
    "!mongorestore --host {HOST}:{PORT} --db {DBNAME} --collection {collection_bson} --drop \"{bson_file}\"\n",
    "!mongoimport --host {HOST}:{PORT} --db {DBNAME} --collection {collection_json} --drop --type json \"{json_file}\""
   ]
  },
  {
   "cell_type": "code",
   "execution_count": null,
   "id": "66b1ebc0-fcdf-4624-a7af-90a0b378669f",
   "metadata": {},
   "outputs": [],
   "source": [
    "# 2025-06-03T17:04:39.900-0600\tfinished restoring clickstream.clicks (6100000 documents, 0 failures)\n",
    "# 2025-06-03T17:04:39.900-0600\tno indexes to restore for collection clickstream.clicks\n",
    "# 2025-06-03T17:04:39.900-0600\t6100000 document(s) restored successfully. 0 document(s) failed to restore.\n",
    "# 2025-06-03T17:04:40.598-0600\tconnected to: mongodb://localhost:27017/\n",
    "# 2025-06-03T17:04:40.601-0600\tdropping: clickstream.clicks.metadata\n",
    "# 2025-06-03T17:04:40.641-0600\t1 document(s) imported successfully. 0 document(s) failed to import."
   ]
  },
  {
   "cell_type": "markdown",
   "id": "7f8599c4-c50c-49d4-8157-6052a1b823d2",
   "metadata": {},
   "source": [
    "# Select Imported DB"
   ]
  },
  {
   "cell_type": "code",
   "execution_count": 16,
   "id": "4b3297bc-e6d0-4147-9efb-92b2d41e6924",
   "metadata": {},
   "outputs": [],
   "source": [
    "db_name = \"clickstream\"\n",
    "db = client[db_name]"
   ]
  },
  {
   "cell_type": "markdown",
   "id": "91a36efd-3f77-4933-b331-981df06cc9f2",
   "metadata": {},
   "source": [
    "# Show Collections"
   ]
  },
  {
   "cell_type": "code",
   "execution_count": 17,
   "id": "0f1acbde-142b-4488-b035-339c42f68ddd",
   "metadata": {},
   "outputs": [
    {
     "name": "stdout",
     "output_type": "stream",
     "text": [
      "['clicks', 'clicks.metadata']\n"
     ]
    }
   ],
   "source": [
    "collections = db.list_collection_names()\n",
    "print(collections)"
   ]
  },
  {
   "cell_type": "markdown",
   "id": "a17619ca-9ad3-4208-9c9f-4167525cfc89",
   "metadata": {},
   "source": [
    "# Sample Documents"
   ]
  },
  {
   "cell_type": "code",
   "execution_count": 19,
   "id": "658ef09b-4235-4daf-9cd1-394c908a872d",
   "metadata": {},
   "outputs": [
    {
     "data": {
      "text/plain": [
       "{'_id': ObjectId('60df1029ad74d9467c91a932'),\n",
       " 'webClientID': 'WI100000244987',\n",
       " 'VisitDateTime': datetime.datetime(2018, 5, 25, 4, 51, 14, 179000),\n",
       " 'ProductID': 'Pr100037',\n",
       " 'Activity': 'click',\n",
       " 'device': {'Browser': 'Firefox', 'OS': 'Windows'},\n",
       " 'user': {'City': 'Colombo', 'Country': 'Sri Lanka'}}"
      ]
     },
     "execution_count": 19,
     "metadata": {},
     "output_type": "execute_result"
    }
   ],
   "source": [
    "db.clicks.find_one()"
   ]
  },
  {
   "cell_type": "code",
   "execution_count": 21,
   "id": "c66a4e9a-5f9a-4784-a1df-3f52828287d7",
   "metadata": {},
   "outputs": [
    {
     "data": {
      "text/plain": [
       "{'_id': ObjectId('683f7f88add779e2658af02a'),\n",
       " 'indexes': [{'v': 2, 'key': {'_id': 1}, 'name': '_id_'}],\n",
       " 'uuid': 'ee6da5fe5bdf42b2bc3cecee40723af6',\n",
       " 'collectionName': 'clicks'}"
      ]
     },
     "execution_count": 21,
     "metadata": {},
     "output_type": "execute_result"
    }
   ],
   "source": [
    "db.clicks.metadata.find_one()"
   ]
  },
  {
   "cell_type": "markdown",
   "id": "5d9395fb-5cd3-4113-9df9-79c5449720ef",
   "metadata": {},
   "source": [
    "# Get Record Counts"
   ]
  },
  {
   "cell_type": "code",
   "execution_count": 23,
   "id": "9688513c-abc7-4d03-bf82-4d72db2be372",
   "metadata": {},
   "outputs": [
    {
     "data": {
      "text/plain": [
       "6100000"
      ]
     },
     "execution_count": 23,
     "metadata": {},
     "output_type": "execute_result"
    }
   ],
   "source": [
    "db.clicks.count_documents({})"
   ]
  },
  {
   "cell_type": "code",
   "execution_count": 25,
   "id": "d452397e-d7cf-4b4e-84c0-2ac141c5bead",
   "metadata": {},
   "outputs": [
    {
     "data": {
      "text/plain": [
       "1"
      ]
     },
     "execution_count": 25,
     "metadata": {},
     "output_type": "execute_result"
    }
   ],
   "source": [
    "db.clicks.metadata.count_documents({})"
   ]
  },
  {
   "cell_type": "markdown",
   "id": "9fc9fa2d-5c26-4d32-afda-e1a4805eca0f",
   "metadata": {},
   "source": [
    "### Count of Unique Values (Field device.Browser)"
   ]
  },
  {
   "cell_type": "code",
   "execution_count": 26,
   "id": "4761450f-3e4b-45a3-b909-227b08d97649",
   "metadata": {},
   "outputs": [
    {
     "data": {
      "text/plain": [
       "82"
      ]
     },
     "execution_count": 26,
     "metadata": {},
     "output_type": "execute_result"
    }
   ],
   "source": [
    "len(db.clicks.distinct(\"device.Browser\"))"
   ]
  },
  {
   "cell_type": "markdown",
   "id": "070e2264-54bc-45b9-b9a3-4fea394f460b",
   "metadata": {},
   "source": [
    "# Get List of Distinct Fields"
   ]
  },
  {
   "cell_type": "code",
   "execution_count": 27,
   "id": "17c3d860-5dfc-4a08-a733-1e638562f420",
   "metadata": {},
   "outputs": [
    {
     "name": "stdout",
     "output_type": "stream",
     "text": [
      "['user', 'webClientID', '_id', 'ProductID', 'Activity', 'device', 'VisitDateTime']\n"
     ]
    }
   ],
   "source": [
    "fields = set()\n",
    "for doc in db.clicks.find().limit(1000000):\n",
    "    fields.update(doc.keys())\n",
    "print(list(fields))"
   ]
  },
  {
   "cell_type": "markdown",
   "id": "47fbd84b-9888-41a8-8912-dc576ed863d6",
   "metadata": {},
   "source": [
    "Including nested fields:"
   ]
  },
  {
   "cell_type": "code",
   "execution_count": 28,
   "id": "8a54b7a0-a45c-4392-8ced-7af655837403",
   "metadata": {},
   "outputs": [
    {
     "name": "stdout",
     "output_type": "stream",
     "text": [
      "['user', 'user.City', 'webClientID', '_id', 'device.Browser', 'device.OS', 'ProductID', 'user.Country', 'Activity', 'device', 'VisitDateTime', 'user.UserID']\n"
     ]
    }
   ],
   "source": [
    "def extract_fields(obj, prefix, fields):\n",
    "    for key, value in obj.items():\n",
    "        full_key = f\"{prefix}.{key}\" if prefix else key\n",
    "        fields.add(full_key)\n",
    "        \n",
    "        # recurse into nested dictionaries\n",
    "        if isinstance(value, dict):\n",
    "            extract_fields(value, full_key, fields)\n",
    "\n",
    "# initialize set of field paths\n",
    "fields = set()\n",
    "\n",
    "# iterate over documents\n",
    "for doc in db.clicks.find().limit(1000000):\n",
    "    extract_fields(doc, \"\", fields)\n",
    "\n",
    "# print unique field paths\n",
    "print(list(fields))"
   ]
  },
  {
   "cell_type": "markdown",
   "id": "026077f0-a3a7-4c8d-86fb-44376850b330",
   "metadata": {},
   "source": [
    "# Get Number of Distinct Values by Field"
   ]
  },
  {
   "cell_type": "markdown",
   "id": "a67f7878-2097-4a2a-b670-c9aad6a8f087",
   "metadata": {},
   "source": [
    "#### Hard Coded"
   ]
  },
  {
   "cell_type": "code",
   "execution_count": 31,
   "id": "f94a373a-b540-49f8-ba53-ad0015796f51",
   "metadata": {},
   "outputs": [
    {
     "name": "stdout",
     "output_type": "stream",
     "text": [
      "_id: 6100000 unique values\n",
      "VisitDateTime: 6089023 unique values\n",
      "webClientID: 1091455 unique values\n",
      "user: 72162 unique values\n",
      "user.UserID: 34051 unique values\n",
      "user.City: 26260 unique values\n",
      "ProductID: 10938 unique values\n",
      "user.Country: 222 unique values\n",
      "device: 151 unique values\n",
      "device.Browser: 82 unique values\n",
      "device.OS: 18 unique values\n",
      "Activity: 2 unique values\n"
     ]
    }
   ],
   "source": [
    "collection = db['clicks']\n",
    "\n",
    "fields = [\n",
    "    '_id',\n",
    "    'webClientID',\n",
    "    'VisitDateTime',\n",
    "    'ProductID',\n",
    "    'Activity',\n",
    "    'device',\n",
    "    'device.Browser',\n",
    "    'device.OS',\n",
    "    'user',\n",
    "    'user.City',\n",
    "    'user.Country',\n",
    "    'user.UserID'\n",
    "]\n",
    "\n",
    "# array to store results\n",
    "results = []\n",
    "\n",
    "# loop through fields\n",
    "for field in fields:\n",
    "    pipeline = [\n",
    "\n",
    "        # group by field\n",
    "        {\"$group\": {\"_id\": f\"${field}\"}},\n",
    "\n",
    "        # get count of group\n",
    "        {\"$group\": {\"_id\": None, \"count\": {\"$sum\": 1}}}\n",
    "    ]\n",
    "\n",
    "    # run collection through pipeline, convert the result to array\n",
    "    result = list(collection.aggregate(pipeline))\n",
    "\n",
    "    # if doc exists, extract count\n",
    "    count = result[0][\"count\"] if result else 0\n",
    "\n",
    "    # append results\n",
    "    results.append({\"field\": field, \"count\": count})\n",
    "\n",
    "# sort results descending by count\n",
    "results.sort(key=lambda x: x[\"count\"], reverse=True)\n",
    "\n",
    "# print sorted results\n",
    "for item in results:\n",
    "    print(f\"{item['field']}: {item['count']} unique values\")"
   ]
  },
  {
   "cell_type": "markdown",
   "id": "e3670682-a23f-48cb-a9f9-4cac980d02d0",
   "metadata": {},
   "source": [
    "#### Dynamic"
   ]
  },
  {
   "cell_type": "code",
   "execution_count": null,
   "id": "b4ed1ce7-2dd7-4a97-a57c-b7252d48dd56",
   "metadata": {},
   "outputs": [],
   "source": [
    "# print(\"=== Starting Unique Field Count ===\")\n",
    "\n",
    "# # Recursively extract field paths\n",
    "# def extract_fields(obj, prefix=\"\", fields=None):\n",
    "#     if fields is None:\n",
    "#         fields = set()\n",
    "#     for key, value in obj.items():\n",
    "#         full_key = f\"{prefix}.{key}\" if prefix else key\n",
    "#         fields.add(full_key)\n",
    "#         if isinstance(value, dict):\n",
    "#             extract_fields(value, full_key, fields)\n",
    "#     return fields\n",
    "\n",
    "# # Get all field paths from documents\n",
    "# field_set = set()\n",
    "# for doc in db.clicks.find():\n",
    "#     field_set.update(extract_fields(doc))\n",
    "\n",
    "# # Count distinct values for each field\n",
    "# results = []\n",
    "# for field in field_set:\n",
    "#     try:\n",
    "#         pipeline = [\n",
    "#             {\"$group\": {\"_id\": f\"${field}\"}},\n",
    "#             {\"$group\": {\"_id\": None, \"count\": {\"$sum\": 1}}}\n",
    "#         ]\n",
    "#         res = list(db.clicks.aggregate(pipeline))\n",
    "#         count = res[0][\"count\"] if res else 0\n",
    "#         results.append({\"field\": field, \"count\": count})\n",
    "#     except Exception as e:\n",
    "#         print(f\"Error counting values for {field}: {str(e)}\")\n",
    "#         results.append({\"field\": field, \"count\": 0})\n",
    "\n",
    "# # Sort results by count in descending order\n",
    "# results.sort(key=lambda x: x[\"count\"], reverse=True)\n",
    "\n",
    "# # Print results with numbering\n",
    "# for i, r in enumerate(results, 1):\n",
    "#     print(f\"{i}. {r['field']}: {r['count']} unique values\")"
   ]
  },
  {
   "cell_type": "markdown",
   "id": "e2f406ab-bfe1-4b13-a838-20c1cda8330a",
   "metadata": {},
   "source": [
    "# Get List of Unique Values for a Field"
   ]
  },
  {
   "cell_type": "code",
   "execution_count": 32,
   "id": "94454776-1f9a-4c2f-b95f-262c78b2cc25",
   "metadata": {},
   "outputs": [
    {
     "data": {
      "text/plain": [
       "['AdsBot-Google',\n",
       " 'AhrefsBot',\n",
       " 'Amazon Silk',\n",
       " 'Android',\n",
       " 'AppEngine-Google',\n",
       " 'Apple Mail',\n",
       " 'BingPreview',\n",
       " 'BlackBerry WebKit',\n",
       " 'Chrome',\n",
       " 'Chrome Mobile',\n",
       " 'Chrome Mobile WebView',\n",
       " 'Chrome Mobile iOS',\n",
       " 'Chromium',\n",
       " 'Coc Coc',\n",
       " 'Coveobot',\n",
       " 'Crosswalk',\n",
       " 'Dragon',\n",
       " 'DuckDuckBot',\n",
       " 'Edge',\n",
       " 'Edge Mobile',\n",
       " 'Electron',\n",
       " 'Epiphany',\n",
       " 'Facebook',\n",
       " 'FacebookBot',\n",
       " 'Firefox',\n",
       " 'Firefox Mobile',\n",
       " 'Firefox iOS',\n",
       " 'HbbTV',\n",
       " 'HeadlessChrome',\n",
       " 'HubSpot Crawler',\n",
       " 'IE',\n",
       " 'IE Mobile',\n",
       " 'Iceweasel',\n",
       " 'Iron',\n",
       " 'JobBot',\n",
       " 'Jooblebot',\n",
       " 'K-Meleon',\n",
       " 'Kindle',\n",
       " 'Konqueror',\n",
       " 'Magus Bot',\n",
       " 'Mail.ru Chromium Browser',\n",
       " 'Maxthon',\n",
       " 'Mobile Safari',\n",
       " 'Mobile Safari UI/WKWebView',\n",
       " 'MobileIron',\n",
       " 'NetFront',\n",
       " 'Netscape',\n",
       " 'Opera',\n",
       " 'Opera Coast',\n",
       " 'Opera Mini',\n",
       " 'Opera Mobile',\n",
       " 'Other',\n",
       " 'PagePeeker',\n",
       " 'Pale Moon',\n",
       " 'PetalBot',\n",
       " 'PhantomJS',\n",
       " 'Pinterest',\n",
       " 'Puffin',\n",
       " 'Python Requests',\n",
       " 'QQ Browser',\n",
       " 'QQ Browser Mobile',\n",
       " 'Radius Compliance Bot',\n",
       " 'Safari',\n",
       " 'Samsung Internet',\n",
       " 'SeaMonkey',\n",
       " 'Seekport Crawler',\n",
       " 'SiteScoreBot',\n",
       " 'Sleipnir',\n",
       " 'Sogou Explorer',\n",
       " 'Thunderbird',\n",
       " 'UC Browser',\n",
       " 'Vivaldi',\n",
       " 'WebKit Nightly',\n",
       " 'WordPress',\n",
       " 'Yandex Browser',\n",
       " 'YandexAccessibilityBot',\n",
       " 'YandexBot',\n",
       " 'YandexSearch',\n",
       " 'Yeti',\n",
       " 'YisouSpider',\n",
       " 'moatbot',\n",
       " 'net/bot']"
      ]
     },
     "execution_count": 32,
     "metadata": {},
     "output_type": "execute_result"
    }
   ],
   "source": [
    "db.clicks.distinct(\"device.Browser\")"
   ]
  },
  {
   "cell_type": "markdown",
   "id": "aae75d99-4c2f-4576-8511-0f0a45ce0918",
   "metadata": {},
   "source": [
    "# Get Count of Unique Values by Value for a Field"
   ]
  },
  {
   "cell_type": "code",
   "execution_count": 38,
   "id": "d240f3ed-a480-4f2f-9e3e-6e6302c7ea72",
   "metadata": {},
   "outputs": [
    {
     "name": "stdout",
     "output_type": "stream",
     "text": [
      "{'AdsBot-Google': 312,\n",
      " 'AhrefsBot': 229,\n",
      " 'Amazon Silk': 376,\n",
      " 'Android': 19,\n",
      " 'AppEngine-Google': 22,\n",
      " 'Apple Mail': 3038,\n",
      " 'BingPreview': 33,\n",
      " 'BlackBerry WebKit': 2,\n",
      " 'Chrome': 4360498,\n",
      " 'Chrome Mobile': 788991,\n",
      " 'Chrome Mobile WebView': 25381,\n",
      " 'Chrome Mobile iOS': 28031,\n",
      " 'Chromium': 629,\n",
      " 'Coc Coc': 4506,\n",
      " 'Coveobot': 8,\n",
      " 'Crosswalk': 27,\n",
      " 'Dragon': 105,\n",
      " 'DuckDuckBot': 1,\n",
      " 'Edge': 5180,\n",
      " 'Edge Mobile': 17,\n",
      " 'Electron': 13,\n",
      " 'Epiphany': 15,\n",
      " 'Facebook': 5874,\n",
      " 'FacebookBot': 12,\n",
      " 'Firefox': 388766,\n",
      " 'Firefox Mobile': 7040,\n",
      " 'Firefox iOS': 884,\n",
      " 'HbbTV': 4,\n",
      " 'HeadlessChrome': 76595,\n",
      " 'HubSpot Crawler': 1,\n",
      " 'IE': 3381,\n",
      " 'IE Mobile': 22,\n",
      " 'Iceweasel': 2,\n",
      " 'Iron': 156,\n",
      " 'JobBot': 208,\n",
      " 'Jooblebot': 466,\n",
      " 'K-Meleon': 2,\n",
      " 'Kindle': 3,\n",
      " 'Konqueror': 1,\n",
      " 'Magus Bot': 1,\n",
      " 'Mail.ru Chromium Browser': 5,\n",
      " 'Maxthon': 139,\n",
      " 'Mobile Safari': 93241,\n",
      " 'Mobile Safari UI/WKWebView': 3038,\n",
      " 'MobileIron': 3,\n",
      " 'NetFront': 1,\n",
      " 'Netscape': 2,\n",
      " 'Opera': 62522,\n",
      " 'Opera Coast': 2,\n",
      " 'Opera Mini': 12,\n",
      " 'Opera Mobile': 5509,\n",
      " 'Other': 58,\n",
      " 'PagePeeker': 6,\n",
      " 'Pale Moon': 95,\n",
      " 'PetalBot': 82,\n",
      " 'PhantomJS': 440,\n",
      " 'Pinterest': 288,\n",
      " 'Puffin': 16,\n",
      " 'Python Requests': 2,\n",
      " 'QQ Browser': 498,\n",
      " 'QQ Browser Mobile': 15,\n",
      " 'Radius Compliance Bot': 2,\n",
      " 'Safari': 204343,\n",
      " 'Samsung Internet': 19804,\n",
      " 'SeaMonkey': 5,\n",
      " 'Seekport Crawler': 3,\n",
      " 'SiteScoreBot': 4,\n",
      " 'Sleipnir': 6,\n",
      " 'Sogou Explorer': 200,\n",
      " 'Thunderbird': 23,\n",
      " 'UC Browser': 2142,\n",
      " 'Vivaldi': 43,\n",
      " 'WebKit Nightly': 1,\n",
      " 'WordPress': 9,\n",
      " 'Yandex Browser': 6265,\n",
      " 'YandexAccessibilityBot': 41,\n",
      " 'YandexBot': 56,\n",
      " 'YandexSearch': 1,\n",
      " 'Yeti': 9,\n",
      " 'YisouSpider': 1,\n",
      " 'moatbot': 216,\n",
      " 'net/bot': 1}\n"
     ]
    }
   ],
   "source": [
    "result = db.clicks.aggregate([\n",
    "    {\"$group\": {\"_id\": \"$device.Browser\", \"count\": {\"$sum\": 1}}}\n",
    "])\n",
    "counts = {doc[\"_id\"]: doc[\"count\"] for doc in result}\n",
    "sorted_counts = dict(sorted(counts.items(), key=lambda x: x[1], reverse=True))\n",
    "\n",
    "pp.pprint(sorted_counts)"
   ]
  },
  {
   "cell_type": "markdown",
   "id": "14308f60-78f9-408e-ad12-ede912fd39bc",
   "metadata": {},
   "source": [
    "# CRUD Operations"
   ]
  },
  {
   "cell_type": "markdown",
   "id": "7c1e2e29-3195-4880-807a-f4bf563d70f4",
   "metadata": {},
   "source": [
    "## Delete and Create"
   ]
  },
  {
   "cell_type": "markdown",
   "id": "40d6114e-4f99-4c32-9367-471f522985f9",
   "metadata": {},
   "source": [
    "### Delete the Last Record"
   ]
  },
  {
   "cell_type": "markdown",
   "id": "6a1a9cba-4a7d-4c79-b430-17f73af9bf33",
   "metadata": {},
   "source": [
    "Remove the last record from <code>clicks</code> and re-insert it.\n",
    "\n",
    "First capture in variable:"
   ]
  },
  {
   "cell_type": "code",
   "execution_count": 39,
   "id": "9b520096-f882-4470-b98e-249686dca787",
   "metadata": {},
   "outputs": [
    {
     "name": "stdout",
     "output_type": "stream",
     "text": [
      "{'Activity': 'click',\n",
      " 'ProductID': 'Pr101251',\n",
      " 'VisitDateTime': datetime.datetime(2018, 5, 26, 11, 51, 44, 263000),\n",
      " '_id': ObjectId('60df129dad74d9467ceebd51'),\n",
      " 'device': {'Browser': 'Chrome', 'OS': 'Windows'},\n",
      " 'user': {'City': 'Vijayawada', 'Country': 'India'},\n",
      " 'webClientID': 'WI100000118333'}\n"
     ]
    }
   ],
   "source": [
    "last_doc = db.clicks.find().sort(\"_id\", -1).limit(1).next()\n",
    "pp.pprint(last_doc)"
   ]
  },
  {
   "cell_type": "markdown",
   "id": "e65ee5e9-a0d3-4843-a556-e4a151888d8c",
   "metadata": {},
   "source": [
    "Delete it:"
   ]
  },
  {
   "cell_type": "code",
   "execution_count": 40,
   "id": "231aa2e6-cd69-4c0d-8115-1799272c24c7",
   "metadata": {},
   "outputs": [
    {
     "data": {
      "text/plain": [
       "DeleteResult({'n': 1, 'ok': 1.0}, acknowledged=True)"
      ]
     },
     "execution_count": 40,
     "metadata": {},
     "output_type": "execute_result"
    }
   ],
   "source": [
    "db.clicks.delete_one({\"_id\": last_doc[\"_id\"]})"
   ]
  },
  {
   "cell_type": "markdown",
   "id": "ca8fe520-52be-4490-9e57-7ad99ed68db9",
   "metadata": {},
   "source": [
    "### Insert it Back In"
   ]
  },
  {
   "cell_type": "code",
   "execution_count": 41,
   "id": "e167f7dd-e7ef-4b5a-9f34-037ab0cf2c0d",
   "metadata": {},
   "outputs": [
    {
     "data": {
      "text/plain": [
       "InsertOneResult(ObjectId('60df129dad74d9467ceebd51'), acknowledged=True)"
      ]
     },
     "execution_count": 41,
     "metadata": {},
     "output_type": "execute_result"
    }
   ],
   "source": [
    "db.clicks.insert_one(last_doc)"
   ]
  },
  {
   "cell_type": "markdown",
   "id": "387f3d01-8d11-4cb6-a9da-8b43f36614d8",
   "metadata": {},
   "source": [
    "### Delete the Last 5 Records"
   ]
  },
  {
   "cell_type": "code",
   "execution_count": 42,
   "id": "c1d25d1c-4e7a-49b7-93c7-25ff014a455e",
   "metadata": {},
   "outputs": [],
   "source": [
    "last_docs = list(db.clicks.find().sort(\"_id\", -1).limit(5))\n",
    "ids_to_delete = [doc[\"_id\"] for doc in last_docs]"
   ]
  },
  {
   "cell_type": "code",
   "execution_count": 43,
   "id": "c6721716-6736-4793-870c-18dbefca6307",
   "metadata": {},
   "outputs": [
    {
     "data": {
      "text/plain": [
       "DeleteResult({'n': 5, 'ok': 1.0}, acknowledged=True)"
      ]
     },
     "execution_count": 43,
     "metadata": {},
     "output_type": "execute_result"
    }
   ],
   "source": [
    "db.clicks.delete_many({\"_id\": {\"$in\": ids_to_delete}})"
   ]
  },
  {
   "cell_type": "markdown",
   "id": "d9c5b9d2-8e4c-43ae-8160-5f7799918a35",
   "metadata": {},
   "source": [
    "### Insert Them Back In"
   ]
  },
  {
   "cell_type": "code",
   "execution_count": 44,
   "id": "e4c75560-a2d1-4d12-814e-ef15f1a0c5fa",
   "metadata": {},
   "outputs": [
    {
     "data": {
      "text/plain": [
       "InsertManyResult([ObjectId('60df129dad74d9467ceebd51'), ObjectId('60df129dad74d9467ceebd50'), ObjectId('60df129dad74d9467ceebd4f'), ObjectId('60df129dad74d9467ceebd4e'), ObjectId('60df129dad74d9467ceebd4d')], acknowledged=True)"
      ]
     },
     "execution_count": 44,
     "metadata": {},
     "output_type": "execute_result"
    }
   ],
   "source": [
    "db.clicks.insert_many(last_docs)"
   ]
  },
  {
   "cell_type": "markdown",
   "id": "9a814000-b818-4db1-b396-fc6d9716c19e",
   "metadata": {},
   "source": [
    "## Read"
   ]
  },
  {
   "cell_type": "markdown",
   "id": "cc107b4e-720b-4134-9532-e3a5af47ab52",
   "metadata": {},
   "source": [
    "### Filter to <code>_id</code> Equal to <code>60df129dad74d9467ceebd51</code>"
   ]
  },
  {
   "cell_type": "code",
   "execution_count": 49,
   "id": "c7ec1d75-a777-472f-af08-74a2bee8c330",
   "metadata": {},
   "outputs": [
    {
     "data": {
      "text/plain": [
       "{'_id': ObjectId('60df129dad74d9467ceebd51'),\n",
       " 'webClientID': 'WI100000118333',\n",
       " 'VisitDateTime': datetime.datetime(2018, 5, 26, 11, 51, 44, 263000),\n",
       " 'ProductID': 'Pr101251',\n",
       " 'Activity': 'click',\n",
       " 'device': {'Browser': 'Chrome', 'OS': 'Windows'},\n",
       " 'user': {'City': 'Vijayawada', 'Country': 'India'}}"
      ]
     },
     "execution_count": 49,
     "metadata": {},
     "output_type": "execute_result"
    }
   ],
   "source": [
    "db.clicks.find_one({\"_id\": ObjectId(\"60df129dad74d9467ceebd51\")})"
   ]
  },
  {
   "cell_type": "markdown",
   "id": "2b2e7356-0c46-48ba-80a0-d6ac2b8a5df5",
   "metadata": {},
   "source": [
    "### Find First Record Where <code>device.Browser</code> is not Firefox"
   ]
  },
  {
   "cell_type": "code",
   "execution_count": 50,
   "id": "b7c0419c-8639-4ae0-87bb-d692036e6185",
   "metadata": {},
   "outputs": [
    {
     "data": {
      "text/plain": [
       "{'_id': ObjectId('60df1029ad74d9467c91a932'),\n",
       " 'webClientID': 'WI100000244987',\n",
       " 'VisitDateTime': datetime.datetime(2018, 5, 25, 4, 51, 14, 179000),\n",
       " 'ProductID': 'Pr100037',\n",
       " 'Activity': 'click',\n",
       " 'device': {'Browser': 'Firefox', 'OS': 'Windows'},\n",
       " 'user': {'City': 'Colombo', 'Country': 'Sri Lanka'}}"
      ]
     },
     "execution_count": 50,
     "metadata": {},
     "output_type": "execute_result"
    }
   ],
   "source": [
    "db.clicks.find_one({\"device.Browser\": \"Firefox\"})"
   ]
  },
  {
   "cell_type": "markdown",
   "id": "6a9a3030-86d4-4a89-a830-b929bde34864",
   "metadata": {},
   "source": [
    "### Find First 2 Records Where <code>device.Browser</code> is not Firefox"
   ]
  },
  {
   "cell_type": "code",
   "execution_count": 54,
   "id": "722b9667-5995-4789-8af5-516bef660fe2",
   "metadata": {},
   "outputs": [
    {
     "name": "stdout",
     "output_type": "stream",
     "text": [
      "[{'Activity': 'pageload',\n",
      "  'ProductID': 'Pr100872',\n",
      "  'VisitDateTime': datetime.datetime(2018, 5, 25, 5, 6, 3, 700000),\n",
      "  '_id': ObjectId('60df1029ad74d9467c91a933'),\n",
      "  'device': {'Browser': 'Chrome Mobile', 'OS': 'Android'},\n",
      "  'user': {},\n",
      "  'webClientID': 'WI10000061461'},\n",
      " {'Activity': 'click',\n",
      "  'ProductID': 'Pr100457',\n",
      "  'VisitDateTime': datetime.datetime(2018, 5, 17, 11, 51, 9, 265000),\n",
      "  '_id': ObjectId('60df1029ad74d9467c91a934'),\n",
      "  'device': {'Browser': 'Chrome', 'OS': 'Linux'},\n",
      "  'user': {'City': 'Ottawa', 'Country': 'Canada'},\n",
      "  'webClientID': 'WI10000075748'}]\n"
     ]
    }
   ],
   "source": [
    "records = list(db.clicks.find({\"device.Browser\": {\"$ne\": \"Firefox\"}}).limit(2))\n",
    "pp.pprint(records)"
   ]
  },
  {
   "cell_type": "markdown",
   "id": "4e7d9b08-a8e1-4d62-9829-ccf3d0737c21",
   "metadata": {},
   "source": [
    "### Find First 2 Records Where <code>VisitDateTime</code> > 5/20/2018"
   ]
  },
  {
   "cell_type": "code",
   "execution_count": 58,
   "id": "715bef46-3220-47cb-998d-909419544bb7",
   "metadata": {},
   "outputs": [
    {
     "name": "stdout",
     "output_type": "stream",
     "text": [
      "[{'Activity': 'click',\n",
      "  'ProductID': 'Pr100037',\n",
      "  'VisitDateTime': datetime.datetime(2018, 5, 25, 4, 51, 14, 179000),\n",
      "  '_id': ObjectId('60df1029ad74d9467c91a932'),\n",
      "  'device': {'Browser': 'Firefox', 'OS': 'Windows'},\n",
      "  'user': {'City': 'Colombo', 'Country': 'Sri Lanka'},\n",
      "  'webClientID': 'WI100000244987'},\n",
      " {'Activity': 'pageload',\n",
      "  'ProductID': 'Pr100872',\n",
      "  'VisitDateTime': datetime.datetime(2018, 5, 25, 5, 6, 3, 700000),\n",
      "  '_id': ObjectId('60df1029ad74d9467c91a933'),\n",
      "  'device': {'Browser': 'Chrome Mobile', 'OS': 'Android'},\n",
      "  'user': {},\n",
      "  'webClientID': 'WI10000061461'}]\n"
     ]
    }
   ],
   "source": [
    "records = list(db.clicks.find({\n",
    "    \"VisitDateTime\": {\"$gt\": datetime(2018, 5, 20)}\n",
    "}).limit(2))\n",
    "\n",
    "pp.pprint(records)"
   ]
  },
  {
   "cell_type": "markdown",
   "id": "90458460-279d-4c66-acc5-0a17ad4b879c",
   "metadata": {},
   "source": [
    "### Get the Minimum and Maximum <code>VisitDateTime</code>"
   ]
  },
  {
   "cell_type": "code",
   "execution_count": 59,
   "id": "74b91e82-5280-47d6-9a23-7e7159ef45b9",
   "metadata": {},
   "outputs": [
    {
     "name": "stdout",
     "output_type": "stream",
     "text": [
      "[{'_id': None,\n",
      "  'maxVisitDateTime': datetime.datetime(2018, 5, 27, 23, 59, 59, 576000),\n",
      "  'minVisitDateTime': datetime.datetime(2018, 5, 7, 0, 0, 1, 190000)}]\n"
     ]
    }
   ],
   "source": [
    "result = list(db.clicks.aggregate([\n",
    "    {\"$group\": {\n",
    "        \"_id\": None,\n",
    "        \"minVisitDateTime\": {\"$min\": \"$VisitDateTime\"},\n",
    "        \"maxVisitDateTime\": {\"$max\": \"$VisitDateTime\"}\n",
    "    }}\n",
    "]))\n",
    "\n",
    "pp.pprint(result)"
   ]
  },
  {
   "cell_type": "markdown",
   "id": "2180c164-f3f2-4247-b01b-9d7fd29ee964",
   "metadata": {},
   "source": [
    "### Get Count of Records Where <code>VisitDateTime</code> is Greater Than 5/20/2018"
   ]
  },
  {
   "cell_type": "code",
   "execution_count": 60,
   "id": "7c4f1b37-1b9e-40a3-ba61-ca7925805416",
   "metadata": {},
   "outputs": [
    {
     "name": "stdout",
     "output_type": "stream",
     "text": [
      "2453050\n"
     ]
    }
   ],
   "source": [
    "count = db.clicks.count_documents({\n",
    "    \"VisitDateTime\": {\"$gt\": datetime(2018, 5, 20)}\n",
    "})\n",
    "print(count)"
   ]
  },
  {
   "cell_type": "markdown",
   "id": "4b3a3cec-fb12-44d0-a286-2ad178769b13",
   "metadata": {},
   "source": [
    "### Get Count of Records Where <code>user.Country</code> is <code>India</code> or <code>United States</code>"
   ]
  },
  {
   "cell_type": "markdown",
   "id": "298aaa91-5863-4d4d-8cb0-e465bb8f0dad",
   "metadata": {},
   "source": [
    "#### Using <code>$or</code>"
   ]
  },
  {
   "cell_type": "code",
   "execution_count": 61,
   "id": "6702efb6-7a1b-4cb5-a888-daaad7286899",
   "metadata": {},
   "outputs": [
    {
     "name": "stdout",
     "output_type": "stream",
     "text": [
      "3497232\n"
     ]
    }
   ],
   "source": [
    "count = db.clicks.count_documents({\n",
    "    \"$or\": [\n",
    "        {\"user.Country\": \"India\"},\n",
    "        {\"user.Country\": \"United States\"}\n",
    "    ]\n",
    "})\n",
    "print(count)"
   ]
  },
  {
   "cell_type": "markdown",
   "id": "d65c4589-2209-4080-a8aa-d4e80478b243",
   "metadata": {},
   "source": [
    "#### Using <code>$in</code>"
   ]
  },
  {
   "cell_type": "code",
   "execution_count": 62,
   "id": "4e19b51b-8124-46d8-abef-ae895e2a0c00",
   "metadata": {},
   "outputs": [
    {
     "name": "stdout",
     "output_type": "stream",
     "text": [
      "3497232\n"
     ]
    }
   ],
   "source": [
    "count = db.clicks.count_documents({\n",
    "    \"user.Country\": {\"$in\": [\"India\", \"United States\"]}\n",
    "})\n",
    "print(count)"
   ]
  },
  {
   "cell_type": "markdown",
   "id": "a6c19cbc-9b67-4798-a637-0a63e2477ab7",
   "metadata": {},
   "source": [
    "### Get Count of Records Where <code>user.Country</code> is Neither <code>India</code> Nor <code>United States</code>"
   ]
  },
  {
   "cell_type": "markdown",
   "id": "cc28c08a-a842-4afa-931b-4836bd783a9b",
   "metadata": {},
   "source": [
    "#### Using <code>$and</code>"
   ]
  },
  {
   "cell_type": "code",
   "execution_count": 63,
   "id": "a12a2f06-0218-4747-9f50-628582954aea",
   "metadata": {},
   "outputs": [
    {
     "name": "stdout",
     "output_type": "stream",
     "text": [
      "2602768\n"
     ]
    }
   ],
   "source": [
    "count = db.clicks.count_documents({\n",
    "    \"$and\": [\n",
    "        {\"user.Country\": {\"$ne\": \"India\"}},\n",
    "        {\"user.Country\": {\"$ne\": \"United States\"}}\n",
    "    ]\n",
    "})\n",
    "print(count)"
   ]
  },
  {
   "cell_type": "markdown",
   "id": "41ea165d-513f-47af-82fa-ade9057b9caa",
   "metadata": {},
   "source": [
    "#### Using `$not` and `$in`"
   ]
  },
  {
   "cell_type": "code",
   "execution_count": 64,
   "id": "b351bc4c-774c-443f-ac05-af24a7143d09",
   "metadata": {},
   "outputs": [
    {
     "name": "stdout",
     "output_type": "stream",
     "text": [
      "2602768\n"
     ]
    }
   ],
   "source": [
    "count = db.clicks.count_documents({\n",
    "    \"user.Country\": {\"$not\": {\"$in\": [\"India\", \"United States\"]}}\n",
    "})\n",
    "print(count)"
   ]
  },
  {
   "cell_type": "markdown",
   "id": "0c67b8d7-ec93-4ce0-9531-7827b7b7618f",
   "metadata": {},
   "source": [
    "#### Using <code>$nin</code>"
   ]
  },
  {
   "cell_type": "code",
   "execution_count": 65,
   "id": "538c9275-d418-451d-90eb-be6014e8c538",
   "metadata": {},
   "outputs": [
    {
     "name": "stdout",
     "output_type": "stream",
     "text": [
      "2602768\n"
     ]
    }
   ],
   "source": [
    "count = db.clicks.count_documents({\n",
    "    \"user.Country\": {\"$nin\": [\"India\", \"United States\"]}\n",
    "})\n",
    "print(count)"
   ]
  },
  {
   "cell_type": "markdown",
   "id": "181f7fa7-a2d1-42d3-8e81-10b5b31478dc",
   "metadata": {},
   "source": [
    "### Get Count of Records with <code>user.UserID</code>"
   ]
  },
  {
   "cell_type": "code",
   "execution_count": 66,
   "id": "24c492c0-a665-4378-8aab-630cb7367180",
   "metadata": {},
   "outputs": [
    {
     "name": "stdout",
     "output_type": "stream",
     "text": [
      "602293\n"
     ]
    }
   ],
   "source": [
    "count = db.clicks.count_documents({\n",
    "  \"user.UserID\": { \"$exists\": \"true\", \"$ne\": \"null\" }\n",
    "})\n",
    "print(count)"
   ]
  },
  {
   "cell_type": "markdown",
   "id": "dfeb6490-b4a7-480b-a043-6ec14528b797",
   "metadata": {},
   "source": [
    "## Update"
   ]
  },
  {
   "cell_type": "markdown",
   "id": "987b85d4-0f00-4e2b-9146-c3405473bec9",
   "metadata": {},
   "source": [
    "### Update <code>device.Browser</code> for Record <code>60df129dad74d9467ceebd51</code> to <code>Firefox</code>"
   ]
  },
  {
   "cell_type": "code",
   "execution_count": 18,
   "id": "d237f24d-9268-4b41-85ce-25a17b344a7f",
   "metadata": {},
   "outputs": [
    {
     "name": "stdout",
     "output_type": "stream",
     "text": [
      "1\n"
     ]
    }
   ],
   "source": [
    "result = db.clicks.update_one(\n",
    "    {\"_id\": ObjectId(\"60df129dad74d9467ceebd51\")},\n",
    "    {\"$set\": {\"device.Browser\": \"Firefox\"}}\n",
    ")\n",
    "print(result.modified_count)"
   ]
  },
  {
   "cell_type": "markdown",
   "id": "99a7d802-71ae-439c-a353-0f1c2b2956c5",
   "metadata": {},
   "source": [
    "Set it back to original state for accuracy:"
   ]
  },
  {
   "cell_type": "code",
   "execution_count": 19,
   "id": "59db4ddc-30e5-41f3-840f-197f73cbced2",
   "metadata": {},
   "outputs": [
    {
     "name": "stdout",
     "output_type": "stream",
     "text": [
      "1\n"
     ]
    }
   ],
   "source": [
    "result = db.clicks.update_one(\n",
    "    {\"_id\": ObjectId(\"60df129dad74d9467ceebd51\")},\n",
    "    {\"$set\": {\"device.Browser\": \"Chrome\"}}\n",
    ")\n",
    "print(result.modified_count)"
   ]
  },
  {
   "cell_type": "markdown",
   "id": "c72f8d47-7aaf-477a-b07d-f07543840b68",
   "metadata": {},
   "source": [
    "### Update <code>device.Browser</code> Records to be <code>Firefox</code> if Set to <code>Firefox iOS</code>"
   ]
  },
  {
   "cell_type": "code",
   "execution_count": null,
   "id": "896ebc4c-3f2c-4e4b-b219-27615d856b6c",
   "metadata": {},
   "outputs": [],
   "source": [
    "# result = db.clicks.update_many(\n",
    "#     {\"device.Browser\": \"Firefox iOS\"},\n",
    "#     {\"$set\": {\"device.Browser\": \"Firefox\"}}\n",
    "# )\n",
    "# print(result.modified_count)"
   ]
  },
  {
   "cell_type": "markdown",
   "id": "78efb37e-317a-4d6d-bac1-865e1a7c2eea",
   "metadata": {},
   "source": [
    "# Create New Field"
   ]
  },
  {
   "cell_type": "markdown",
   "id": "4bc57de6-ff94-4ce1-980c-3f3a338cc6e8",
   "metadata": {},
   "source": [
    "### Add Field Called <code>NewField</code> to First 1000 Records, Set Value to <code>Default</code>"
   ]
  },
  {
   "cell_type": "code",
   "execution_count": 20,
   "id": "4609b53b-a5bd-4201-b2aa-1ccf4ece82c4",
   "metadata": {},
   "outputs": [],
   "source": [
    "for doc in db.clicks.find().limit(1000):\n",
    "    db.clicks.update_one(\n",
    "        {\"_id\": doc[\"_id\"]},\n",
    "        {\"$set\": {\"NewField\": \"Default\"}}\n",
    "    )"
   ]
  },
  {
   "cell_type": "code",
   "execution_count": 21,
   "id": "ee54bce6-18bd-4f6f-b50a-f55611a87e8f",
   "metadata": {},
   "outputs": [
    {
     "data": {
      "text/plain": [
       "{'_id': ObjectId('60df1029ad74d9467c91a932'),\n",
       " 'webClientID': 'WI100000244987',\n",
       " 'VisitDateTime': datetime.datetime(2018, 5, 25, 4, 51, 14, 179000),\n",
       " 'ProductID': 'Pr100037',\n",
       " 'Activity': 'click',\n",
       " 'device': {'Browser': 'Firefox', 'OS': 'Windows'},\n",
       " 'user': {'City': 'Colombo', 'Country': 'Sri Lanka'},\n",
       " 'NewField': 'Default'}"
      ]
     },
     "execution_count": 21,
     "metadata": {},
     "output_type": "execute_result"
    }
   ],
   "source": [
    "db.clicks.find_one({\"NewField\": \"Default\"})"
   ]
  },
  {
   "cell_type": "markdown",
   "id": "3895f8ad-77f3-4eaf-86e2-d1fb92922363",
   "metadata": {},
   "source": [
    "### Remove the Added Field"
   ]
  },
  {
   "cell_type": "code",
   "execution_count": 22,
   "id": "da97d041-ea51-4b10-be9c-1a24ba13e043",
   "metadata": {},
   "outputs": [
    {
     "name": "stdout",
     "output_type": "stream",
     "text": [
      "1000\n"
     ]
    }
   ],
   "source": [
    "result = db.clicks.update_many(\n",
    "    {\"NewField\": {\"$exists\": True}},\n",
    "    {\"$unset\": {\"NewField\": \"\"}}\n",
    ")\n",
    "print(result.modified_count)"
   ]
  },
  {
   "cell_type": "markdown",
   "id": "a595dcaf-c36d-4e32-8908-f35e3fc0adba",
   "metadata": {},
   "source": [
    "# Indexes"
   ]
  },
  {
   "cell_type": "markdown",
   "id": "745e50c1-b03e-4354-9605-1d57407f97c1",
   "metadata": {},
   "source": [
    "## View Indexes"
   ]
  },
  {
   "cell_type": "code",
   "execution_count": 23,
   "id": "8b12bb90-1d6f-4cc0-a2d1-b51d8ad43671",
   "metadata": {},
   "outputs": [
    {
     "name": "stdout",
     "output_type": "stream",
     "text": [
      "{'_id_': {'v': 2, 'key': [('_id', 1)]}}\n"
     ]
    }
   ],
   "source": [
    "indexes = db.clicks.index_information()\n",
    "print(indexes)"
   ]
  },
  {
   "cell_type": "code",
   "execution_count": 28,
   "id": "799e7fe3-eb9c-4714-b9c9-57045bbd12f2",
   "metadata": {},
   "outputs": [
    {
     "name": "stdout",
     "output_type": "stream",
     "text": [
      "{'_id': ObjectId('683f930cd9991db2f0cb8a75'),\n",
      " 'collectionName': 'clicks',\n",
      " 'indexes': [{'key': {'_id': 1}, 'name': '_id_', 'v': 2}],\n",
      " 'uuid': 'ee6da5fe5bdf42b2bc3cecee40723af6'}\n"
     ]
    }
   ],
   "source": [
    "result = db.clicks.metadata.find_one()\n",
    "pp.pprint(result)"
   ]
  },
  {
   "cell_type": "markdown",
   "id": "a1e66404-11a6-4224-9c4b-fba613e8b490",
   "metadata": {},
   "source": [
    "## Create Indexes"
   ]
  },
  {
   "cell_type": "code",
   "execution_count": 29,
   "id": "4607d4ae-bff3-414e-aa75-98bca88bc7bb",
   "metadata": {},
   "outputs": [
    {
     "data": {
      "text/plain": [
       "'device.OS_1'"
      ]
     },
     "execution_count": 29,
     "metadata": {},
     "output_type": "execute_result"
    }
   ],
   "source": [
    "db.clicks.create_index({ \"device.OS\": 1 })"
   ]
  },
  {
   "cell_type": "code",
   "execution_count": 30,
   "id": "26a84238-913a-4e8b-af01-66f4ef0dddb5",
   "metadata": {},
   "outputs": [
    {
     "data": {
      "text/plain": [
       "'device.OS_1'"
      ]
     },
     "execution_count": 30,
     "metadata": {},
     "output_type": "execute_result"
    }
   ],
   "source": [
    "db.clicks.metadata.create_index({ \"device.OS\": 1 })"
   ]
  }
 ],
 "metadata": {
  "kernelspec": {
   "display_name": "Python [conda env:base] *",
   "language": "python",
   "name": "conda-base-py"
  },
  "language_info": {
   "codemirror_mode": {
    "name": "ipython",
    "version": 3
   },
   "file_extension": ".py",
   "mimetype": "text/x-python",
   "name": "python",
   "nbconvert_exporter": "python",
   "pygments_lexer": "ipython3",
   "version": "3.12.7"
  }
 },
 "nbformat": 4,
 "nbformat_minor": 5
}
