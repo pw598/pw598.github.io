{
 "cells": [
  {
   "cell_type": "markdown",
   "id": "e8db65d1-9243-4be1-abcc-973398361879",
   "metadata": {},
   "source": [
    "# MongoDB via Command Line Shell (Bash)"
   ]
  },
  {
   "cell_type": "markdown",
   "id": "b559e6c3-f017-4896-8d0c-12f9ca159af9",
   "metadata": {},
   "source": [
    "# Outline \n",
    "\n",
    "- Establish Connection to Server\n",
    "- Show Databases\n",
    "- Import Data\n",
    "- Show Collections\n",
    "- Sample Documents\n",
    "- Get Record Counts\n",
    "- Get List of Distinct Fields\n",
    "- Get Number of Distinct Values by Field\n",
    "- Get List of Unique Values for a Field\n",
    "- Get Count of Unique Values by Value for a Field\n",
    "- CRUD Operations\n",
    "\t- Delete and Create\n",
    "\t- Read\n",
    "\t- Update\n",
    "- Indexes\n",
    "\t- View Indexes\n",
    "\t- Create Indexes"
   ]
  },
  {
   "cell_type": "markdown",
   "id": "0ed8d32b-c4b1-43f5-ba9b-ea22cfbb3f87",
   "metadata": {},
   "source": [
    "# Establish Connection to Server"
   ]
  },
  {
   "cell_type": "markdown",
   "id": "9a47e648-f606-4445-9360-f8d4e8a1f3e2",
   "metadata": {},
   "source": [
    "<p>The host and port must be specified for each command, unless you want it to default to localhost. Unfortunately, you cannot set them and have them apply to future commands. You can specify environment variables if you want to use \\$HOST and \\$PORT in future references instead of hard-coding.</p>"
   ]
  },
  {
   "cell_type": "code",
   "execution_count": 5,
   "id": "c9ac72f4-594f-47ed-9430-0c2a182c73bc",
   "metadata": {},
   "outputs": [],
   "source": [
    "# I am working from a Jupyter notebook on Windows, \n",
    "# so the 'set' command would be appropriate\n",
    "\n",
    "!set HOST=127.0.0.1\n",
    "!set PORT=27017"
   ]
  },
  {
   "cell_type": "code",
   "execution_count": null,
   "id": "738a460d-e034-48ad-b0d1-138a11b0c834",
   "metadata": {},
   "outputs": [],
   "source": [
    "# Over Linux, I would use:\n",
    "\n",
    "# !export HOST=127.0.0.1\n",
    "# !export PORT=27017"
   ]
  },
  {
   "cell_type": "markdown",
   "id": "884a6737-da85-4416-ae6e-b6ab28df2e11",
   "metadata": {},
   "source": [
    "To keep it simple, I will omit the host and port, since I am using localhost."
   ]
  },
  {
   "cell_type": "markdown",
   "id": "c7354e9c-3074-4980-9b18-891b017529a4",
   "metadata": {},
   "source": [
    "# Show Databases"
   ]
  },
  {
   "cell_type": "code",
   "execution_count": 2,
   "id": "61b3506f-01ea-4cb9-8991-3d564dbb1f75",
   "metadata": {},
   "outputs": [
    {
     "name": "stdout",
     "output_type": "stream",
     "text": [
      "admin        132.00 KiB\n",
      "clickstream  456.26 MiB\n",
      "config        96.00 KiB\n",
      "local         96.00 KiB\n"
     ]
    }
   ],
   "source": [
    "# using --quiet\n",
    "!mongosh --quiet --eval \"show dbs\""
   ]
  },
  {
   "cell_type": "code",
   "execution_count": 32,
   "id": "20019818-1a63-42aa-9790-da52ed668004",
   "metadata": {},
   "outputs": [
    {
     "name": "stdout",
     "output_type": "stream",
     "text": [
      "Current Mongosh Log ID:\t683e47d4c5f8485f46e6e9f6\n",
      "Connecting to:\t\tmongodb://127.0.0.1:27017/?directConnection=true&serverSelectionTimeoutMS=2000&appName=mongosh+2.1.0\n",
      "Using MongoDB:\t\t7.0.4\n",
      "Using Mongosh:\t\t2.1.0\n",
      "mongosh 2.5.1 is available for download: https://www.mongodb.com/try/download/shell\n",
      "\n",
      "For mongosh info see: https://docs.mongodb.com/mongodb-shell/\n",
      "\n",
      "------\n",
      "   The server generated these startup warnings when booting\n",
      "   2025-05-25T19:06:13.572-06:00: Access control is not enabled for the database. Read and write access to data and configuration is unrestricted\n",
      "------\n",
      "\n",
      "admin        132.00 KiB\n",
      "clickstream  428.96 MiB\n",
      "config       108.00 KiB\n",
      "local         96.00 KiB\n"
     ]
    }
   ],
   "source": [
    "# not using --quiet\n",
    "!mongosh --eval \"show dbs\""
   ]
  },
  {
   "cell_type": "markdown",
   "id": "0d0dc17a-54d7-4e34-91ae-95cf0b6c9400",
   "metadata": {},
   "source": [
    "# Import Data"
   ]
  },
  {
   "cell_type": "markdown",
   "id": "f0845a6b-395c-4c0b-af2e-1bb2bb70c278",
   "metadata": {},
   "source": [
    "### Drop clickstream if Exists (Optional)"
   ]
  },
  {
   "cell_type": "code",
   "execution_count": 54,
   "id": "0c7048ce-9074-4469-8635-83ec27cfb1a7",
   "metadata": {},
   "outputs": [
    {
     "name": "stdout",
     "output_type": "stream",
     "text": [
      "{ ok: 1, dropped: 'clickstream' }\n"
     ]
    }
   ],
   "source": [
    "!mongosh --quiet --eval \"db.getSiblingDB('clickstream').dropDatabase();\""
   ]
  },
  {
   "cell_type": "code",
   "execution_count": null,
   "id": "f628aa11-d6cd-41a6-b5a6-e26174af1b75",
   "metadata": {},
   "outputs": [],
   "source": [
    "!mongorestore --host localhost:27017 --db clickstream --collection clicks --drop \"data\\clicks.bson\"\n",
    "!mongoimport --host localhost:27017 --db clickstream --collection clicks.metadata --drop --type json \"data\\clicks.metadata.json\""
   ]
  },
  {
   "cell_type": "code",
   "execution_count": null,
   "id": "6ccbe82e-d154-4a1c-a3e1-7e59b4599405",
   "metadata": {},
   "outputs": [],
   "source": [
    "# 2025-06-02T19:24:52.672-0600\tfinished restoring clickstream.clicks (6100000 documents, 0 failures)\n",
    "# 2025-06-02T19:24:52.672-0600\tno indexes to restore for collection clickstream.clicks\n",
    "# 2025-06-02T19:24:52.672-0600\t6100000 document(s) restored successfully. 0 document(s) failed to restore.\n",
    "# 2025-06-02T19:24:53.362-0600\tconnected to: mongodb://localhost:27017/\n",
    "# 2025-06-02T19:24:53.364-0600\tdropping: clickstream.clicks.metadata\n",
    "# 2025-06-02T19:24:53.387-0600\t1 document(s) imported successfully. 0 document(s) failed to import."
   ]
  },
  {
   "cell_type": "markdown",
   "id": "d0602ee1-f17a-4e35-8e27-99710073d764",
   "metadata": {},
   "source": [
    "# Show Collections"
   ]
  },
  {
   "cell_type": "code",
   "execution_count": 65,
   "id": "738d7166-f488-4497-a7c5-b3bd2b727929",
   "metadata": {},
   "outputs": [
    {
     "name": "stdout",
     "output_type": "stream",
     "text": [
      "[ 'clicks', 'clicks.metadata' ]\n"
     ]
    }
   ],
   "source": [
    "!mongosh --quiet --eval \"db.getSiblingDB('clickstream').getCollectionNames()\""
   ]
  },
  {
   "cell_type": "markdown",
   "id": "0bb96ecb-b4a1-4c8a-b3e1-48fbc63f955b",
   "metadata": {},
   "source": [
    "# Sample Documents"
   ]
  },
  {
   "cell_type": "code",
   "execution_count": 66,
   "id": "07f08c9d-87fc-4fe0-bdae-896422e7f465",
   "metadata": {},
   "outputs": [
    {
     "name": "stdout",
     "output_type": "stream",
     "text": [
      "{\n",
      "  _id: ObjectId('60df1029ad74d9467c91a932'),\n",
      "  webClientID: 'WI100000244987',\n",
      "  VisitDateTime: ISODate('2018-05-25T04:51:14.179Z'),\n",
      "  ProductID: 'Pr100037',\n",
      "  Activity: 'click',\n",
      "  device: { Browser: 'Firefox', OS: 'Windows' },\n",
      "  user: { City: 'Colombo', Country: 'Sri Lanka' }\n",
      "}\n"
     ]
    }
   ],
   "source": [
    "!mongosh --quiet --eval \"db.getSiblingDB('clickstream').clicks.findOne()\""
   ]
  },
  {
   "cell_type": "code",
   "execution_count": 67,
   "id": "12cc3605-1d26-4f53-a639-6be2dd33125d",
   "metadata": {},
   "outputs": [
    {
     "name": "stdout",
     "output_type": "stream",
     "text": [
      "{\n",
      "  _id: ObjectId('683e4ee50ce8cbeec786c0a5'),\n",
      "  indexes: [ { v: 2, key: { _id: 1 }, name: '_id_' } ],\n",
      "  uuid: 'ee6da5fe5bdf42b2bc3cecee40723af6',\n",
      "  collectionName: 'clicks'\n",
      "}\n"
     ]
    }
   ],
   "source": [
    "!mongosh --quiet --eval \"db.getSiblingDB('clickstream').clicks.metadata.findOne()\""
   ]
  },
  {
   "cell_type": "markdown",
   "id": "7a389db8-d250-4de3-83ab-8facd9740191",
   "metadata": {},
   "source": [
    "# Get Record Counts"
   ]
  },
  {
   "cell_type": "code",
   "execution_count": 68,
   "id": "02032d21-0e91-444f-80cb-97590f4998f2",
   "metadata": {},
   "outputs": [
    {
     "name": "stdout",
     "output_type": "stream",
     "text": [
      "6100000\n"
     ]
    }
   ],
   "source": [
    "!mongosh --quiet --eval \"db.getSiblingDB('clickstream').clicks.countDocuments()\""
   ]
  },
  {
   "cell_type": "code",
   "execution_count": 69,
   "id": "2cbf978b-59ab-4ccf-b81e-c5dd190f6fde",
   "metadata": {},
   "outputs": [
    {
     "name": "stdout",
     "output_type": "stream",
     "text": [
      "1\n"
     ]
    }
   ],
   "source": [
    "!mongosh --quiet --eval \"db.getSiblingDB('clickstream').clicks.metadata.countDocuments()\""
   ]
  },
  {
   "cell_type": "markdown",
   "id": "9353e168-5e2a-4c45-a29f-0d6b6f6c47d3",
   "metadata": {},
   "source": [
    "### Count of Unique Values (Field <code>device.Browser</code>)"
   ]
  },
  {
   "cell_type": "code",
   "execution_count": 71,
   "id": "0bd8432e-dfbb-4612-b300-5e2f1144d965",
   "metadata": {},
   "outputs": [
    {
     "name": "stdout",
     "output_type": "stream",
     "text": [
      "82\n"
     ]
    }
   ],
   "source": [
    "!mongosh --quiet --eval \"db.getSiblingDB('clickstream').clicks.distinct('device.Browser').length\""
   ]
  },
  {
   "cell_type": "markdown",
   "id": "88f4272e-8e3f-4732-86fc-546a1c158757",
   "metadata": {},
   "source": [
    "# Get List of Distinct Fields"
   ]
  },
  {
   "cell_type": "code",
   "execution_count": null,
   "id": "1ad84745-494d-4cbf-8ad9-626c449902e5",
   "metadata": {},
   "outputs": [],
   "source": [
    "# limiting to 1M records (it's faster with pymongo)"
   ]
  },
  {
   "cell_type": "code",
   "execution_count": null,
   "id": "10cb3820-8944-41bc-ae5d-e782283b6ccd",
   "metadata": {},
   "outputs": [],
   "source": [
    "## list_distinct_fields.js\n",
    "\n",
    "# (function() {\n",
    "#   var fields = {};\n",
    "#   db.clicks.find().limit(1000000).forEach(function(doc) {\n",
    "#     Object.keys(doc).forEach(function(key) {\n",
    "#       fields[key] = true;\n",
    "#     });\n",
    "#   });\n",
    "#   printjson(Object.keys(fields));\n",
    "# })();"
   ]
  },
  {
   "cell_type": "code",
   "execution_count": 2,
   "id": "7f2553e1-6a67-4e09-82a8-365d007d83b3",
   "metadata": {},
   "outputs": [],
   "source": [
    "!mongosh --quiet --file C:\\Users\\patwh\\Documents\\js_scripts\\list_distinct_fields.js"
   ]
  },
  {
   "cell_type": "markdown",
   "id": "bb3182d9-ab06-434e-a52c-0d26a6fcc1dd",
   "metadata": {},
   "source": [
    "### Get Nested Fields as Well"
   ]
  },
  {
   "cell_type": "code",
   "execution_count": null,
   "id": "4f83512c-a270-48f7-9f8f-cac5b7c6c24b",
   "metadata": {},
   "outputs": [],
   "source": [
    "## unique_fields_nested.js\n",
    "\n",
    "# (() => {\n",
    "#   let fields = {};\n",
    "\n",
    "#   // recursive function to extract fields\n",
    "#   function extractFields(obj, prefix = \"\") {\n",
    "\n",
    "#     // iterate through keys\n",
    "#     for (let key in obj) {\n",
    "\n",
    "#       // construct full key path, e.g. parent.child\n",
    "#       let fullKey = prefix + (prefix ? \".\" : \"\") + key;\n",
    "\n",
    "#       // store field\n",
    "#       fields[fullKey] = true;\n",
    "#       if (obj[key]?.constructor === Object) extractFields(obj[key], fullKey);\n",
    "#     }\n",
    "#   }\n",
    "\n",
    "#   // limit number of records searched\n",
    "#   db.clicks.find().limit(1000000).forEach(doc => extractFields(doc));\n",
    "\n",
    "#   // print results\n",
    "#   printjson(Object.keys(fields));\n",
    "# })();"
   ]
  },
  {
   "cell_type": "code",
   "execution_count": 12,
   "id": "032ebdfb-e772-4a7d-ae0a-491e62605b8b",
   "metadata": {},
   "outputs": [
    {
     "name": "stdout",
     "output_type": "stream",
     "text": [
      "[\n",
      "  '_id',\n",
      "  'webClientID',\n",
      "  'VisitDateTime',\n",
      "  'ProductID',\n",
      "  'Activity',\n",
      "  'device',\n",
      "  'device.Browser',\n",
      "  'device.OS',\n",
      "  'user',\n",
      "  'user.City',\n",
      "  'user.Country',\n",
      "  'user.UserID'\n",
      "]\n"
     ]
    }
   ],
   "source": [
    "!mongosh --quiet --file js_files\\unique_fields_nested.js"
   ]
  },
  {
   "cell_type": "markdown",
   "id": "15e5ccae-7de3-4881-9828-e6922c541cf3",
   "metadata": {},
   "source": [
    "# Get Number of Distinct Values by Field"
   ]
  },
  {
   "cell_type": "code",
   "execution_count": null,
   "id": "b34b1358-8401-4354-930e-9b1a4e2b844b",
   "metadata": {},
   "outputs": [],
   "source": [
    "## unique_value_counts_hardcoded.js\n",
    "\n",
    "# (function() {\n",
    "#   const collection = db.clicks;\n",
    "\n",
    "#   const fields = [\n",
    "#     '_id',\n",
    "#     'webClientID',\n",
    "#     'VisitDateTime',\n",
    "#     'ProductID',\n",
    "#     'Activity',\n",
    "#     'device',\n",
    "#     'device.Browser',\n",
    "#     'device.OS',\n",
    "#     'user',\n",
    "#     'user.City',\n",
    "#     'user.Country',\n",
    "#     'user.UserID'\n",
    "#   ];\n",
    "\n",
    "#   // array to store fields and counts\n",
    "#   const results = [];\n",
    "\n",
    "#   // iterate through fields\n",
    "#   fields.forEach(field => {\n",
    "\n",
    "#     const pipeline = \n",
    "#       // group documents by the specified field\n",
    "#       { $group: { _id: `$${field}` } },\n",
    "\n",
    "#       // count number of documents in group \n",
    "#       { $group: { _id: null, count: { $sum: 1 } } }\n",
    "#     ];\n",
    "\n",
    "#     // run collection through pipeline, convert the result to array\n",
    "#     const result = collection.aggregate(pipeline).toArray();\n",
    "\n",
    "#     // if doc exists, extract count\n",
    "#     const count = result.length > 0 ? result[0].count : 0;\n",
    "#     results.push({ field: field, count: count });\n",
    "#   });\n",
    "\n",
    "#   // sort results descending by count\n",
    "#   results.sort((a, b) => b.count - a.count);\n",
    "\n",
    "#   // print sorted results\n",
    "#   results.forEach(({ field, count }) => {\n",
    "#     print(`${field}: ${count} unique values`);\n",
    "#   });\n",
    "# })();"
   ]
  },
  {
   "cell_type": "code",
   "execution_count": 14,
   "id": "0d2c5b60-f3c4-43ad-98ba-950358db4610",
   "metadata": {},
   "outputs": [
    {
     "name": "stdout",
     "output_type": "stream",
     "text": [
      "_id: 6100000 unique values\n",
      "VisitDateTime: 6089023 unique values\n",
      "webClientID: 1091455 unique values\n",
      "user: 72162 unique values\n",
      "user.UserID: 34051 unique values\n",
      "user.City: 26260 unique values\n",
      "ProductID: 10938 unique values\n",
      "user.Country: 222 unique values\n",
      "device: 151 unique values\n",
      "device.Browser: 82 unique values\n",
      "device.OS: 18 unique values\n",
      "Activity: 2 unique values\n"
     ]
    }
   ],
   "source": [
    "!mongosh --quiet --file js_files\\unique_value_counts_hardcoded_fields.js"
   ]
  },
  {
   "cell_type": "markdown",
   "id": "0694df9f-511d-4400-a6d9-bfaf4a4b2296",
   "metadata": {},
   "source": [
    "### Dynamic Version (First Finds Fields, then Distinct Value Counts)"
   ]
  },
  {
   "cell_type": "code",
   "execution_count": null,
   "id": "8f9cafd5-5a12-404a-8418-c64d580167fd",
   "metadata": {},
   "outputs": [],
   "source": [
    "## count_unique_values_dynamic.js\n",
    "\n",
    "# js_code = \"\"\"\n",
    "# (() => {\n",
    "#   db = db.getSiblingDB('clickstream');\n",
    "  \n",
    "#   // empty object\n",
    "#   let fields = {};\n",
    "\n",
    "#   // extract fields from nested objects\n",
    "#   function extractFields(obj, prefix = '') {\n",
    "  \n",
    "#     // iterate through keys\n",
    "#     Object.keys(obj).forEach(key => {\n",
    "    \n",
    "#       // construct full key path, e.g. parent.child\n",
    "#       let fullKey = prefix + (prefix ? '.' : '') + key;\n",
    "      \n",
    "#       // mark field as present\n",
    "#       fields[fullKey] = 1;\n",
    "      \n",
    "#       // recurse into nested objects if valid\n",
    "#       if (obj[key]?.constructor === Object) extractFields(obj[key], fullKey);\n",
    "#     });\n",
    "#   }\n",
    "\n",
    "#   // iterate through documents in collection\n",
    "#   db.clicks.find().forEach(extractFields);\n",
    "\n",
    "#   // map fields to their unique value counts\n",
    "#   let results = Object.keys(fields).map(field => ({\n",
    "  \n",
    "#     // store field name\n",
    "#     field,\n",
    "    \n",
    "#     // count unique values\n",
    "#     count: db.clicks.aggregate([\n",
    "    \n",
    "#       // group by field\n",
    "#       { $group: { _id: `$${field}` } },\n",
    "      \n",
    "#       // count unique groups\n",
    "#       { $group: { _id: null, count: { $sum: 1 } } }\n",
    "      \n",
    "#     // get first result's count or 0 if empty\n",
    "#     ]).toArray()[0]?.count || 0\n",
    "    \n",
    "#   // sort by count in descending order\n",
    "#   })).sort((a, b) => b.count - a.count);\n",
    "\n",
    "#   // print ranked field counts\n",
    "#   results.forEach((r, i) => print(`${i + 1}. ${r.field}: ${r.count}`));\n",
    "# })();\n",
    "# \"\"\""
   ]
  },
  {
   "cell_type": "markdown",
   "id": "6aaa9e54-50f8-4fc4-b1c3-8646022ca9f4",
   "metadata": {},
   "source": [
    "# Get List of Unique Values for a Field"
   ]
  },
  {
   "cell_type": "code",
   "execution_count": 17,
   "id": "9b50f604-152a-4b65-9504-c76b1333c3e9",
   "metadata": {
    "scrolled": true
   },
   "outputs": [
    {
     "name": "stdout",
     "output_type": "stream",
     "text": [
      "[\n",
      "  'AdsBot-Google',\n",
      "  'AhrefsBot',\n",
      "  'Amazon Silk',\n",
      "  'Android',\n",
      "  'AppEngine-Google',\n",
      "  'Apple Mail',\n",
      "  'BingPreview',\n",
      "  'BlackBerry WebKit',\n",
      "  'Chrome',\n",
      "  'Chrome Mobile',\n",
      "  'Chrome Mobile WebView',\n",
      "  'Chrome Mobile iOS',\n",
      "  'Chromium',\n",
      "  'Coc Coc',\n",
      "  'Coveobot',\n",
      "  'Crosswalk',\n",
      "  'Dragon',\n",
      "  'DuckDuckBot',\n",
      "  'Edge',\n",
      "  'Edge Mobile',\n",
      "  'Electron',\n",
      "  'Epiphany',\n",
      "  'Facebook',\n",
      "  'FacebookBot',\n",
      "  'Firefox',\n",
      "  'Firefox Mobile',\n",
      "  'Firefox iOS',\n",
      "  'HbbTV',\n",
      "  'HeadlessChrome',\n",
      "  'HubSpot Crawler',\n",
      "  'IE',\n",
      "  'IE Mobile',\n",
      "  'Iceweasel',\n",
      "  'Iron',\n",
      "  'JobBot',\n",
      "  'Jooblebot',\n",
      "  'K-Meleon',\n",
      "  'Kindle',\n",
      "  'Konqueror',\n",
      "  'Magus Bot',\n",
      "  'Mail.ru Chromium Browser',\n",
      "  'Maxthon',\n",
      "  'Mobile Safari',\n",
      "  'Mobile Safari UI/WKWebView',\n",
      "  'MobileIron',\n",
      "  'NetFront',\n",
      "  'Netscape',\n",
      "  'Opera',\n",
      "  'Opera Coast',\n",
      "  'Opera Mini',\n",
      "  'Opera Mobile',\n",
      "  'Other',\n",
      "  'PagePeeker',\n",
      "  'Pale Moon',\n",
      "  'PetalBot',\n",
      "  'PhantomJS',\n",
      "  'Pinterest',\n",
      "  'Puffin',\n",
      "  'Python Requests',\n",
      "  'QQ Browser',\n",
      "  'QQ Browser Mobile',\n",
      "  'Radius Compliance Bot',\n",
      "  'Safari',\n",
      "  'Samsung Internet',\n",
      "  'SeaMonkey',\n",
      "  'Seekport Crawler',\n",
      "  'SiteScoreBot',\n",
      "  'Sleipnir',\n",
      "  'Sogou Explorer',\n",
      "  'Thunderbird',\n",
      "  'UC Browser',\n",
      "  'Vivaldi',\n",
      "  'WebKit Nightly',\n",
      "  'WordPress',\n",
      "  'Yandex Browser',\n",
      "  'YandexAccessibilityBot',\n",
      "  'YandexBot',\n",
      "  'YandexSearch',\n",
      "  'Yeti',\n",
      "  'YisouSpider',\n",
      "  'moatbot',\n",
      "  'net/bot'\n",
      "]\n"
     ]
    }
   ],
   "source": [
    "!mongosh --quiet --eval \"db.getSiblingDB('clickstream').clicks.distinct('device.Browser');\""
   ]
  },
  {
   "cell_type": "markdown",
   "id": "07c2d82a-e699-43bd-bafc-facdf20e6f69",
   "metadata": {},
   "source": [
    "# Get Count of Unique Values for a Field"
   ]
  },
  {
   "cell_type": "code",
   "execution_count": null,
   "id": "2d1b7186-9810-41c7-94c4-d4fbd426f2c3",
   "metadata": {},
   "outputs": [],
   "source": [
    "## count_unique_values_for_field.js\n",
    "\n",
    "# (function() {\n",
    "#   // get clicks collection\n",
    "#   const collection = db.getSiblingDB('clickstream').clicks;\n",
    "  \n",
    "#   // define aggregation pipeline\n",
    "#   const pipeline = [\n",
    "  \n",
    "#     // group by Browser, count occurrences\n",
    "#     { $group: { _id: \"$device.Browser\", count: { $sum: 1 } } },\n",
    "    \n",
    "#     // sort by count descending\n",
    "#     { $sort: { count: -1 } }\n",
    "#   ];\n",
    "  \n",
    "#   // run pipeline, get results\n",
    "#   const result = collection.aggregate(pipeline).toArray();\n",
    "  \n",
    "#   // print each browser and count\n",
    "#   result.forEach(doc => {\n",
    "#     print(`${doc._id}: ${doc.count}`);\n",
    "#   });\n",
    "# })();"
   ]
  },
  {
   "cell_type": "code",
   "execution_count": 7,
   "id": "ea02dd8a-f2b2-4c00-ac2c-d02c3fcf9e23",
   "metadata": {},
   "outputs": [
    {
     "name": "stdout",
     "output_type": "stream",
     "text": [
      "Chrome: 4360498\n",
      "Chrome Mobile: 788991\n",
      "Firefox: 388766\n",
      "Safari: 204343\n",
      "Mobile Safari: 93241\n",
      "HeadlessChrome: 76595\n",
      "Opera: 62522\n",
      "Chrome Mobile iOS: 28031\n",
      "Chrome Mobile WebView: 25381\n",
      "Samsung Internet: 19804\n",
      "Firefox Mobile: 7040\n",
      "Yandex Browser: 6265\n",
      "Facebook: 5874\n",
      "Opera Mobile: 5509\n",
      "Edge: 5180\n",
      "Coc Coc: 4506\n",
      "IE: 3381\n",
      "Apple Mail: 3038\n",
      "Mobile Safari UI/WKWebView: 3038\n",
      "UC Browser: 2142\n",
      "Firefox iOS: 884\n",
      "Chromium: 629\n",
      "QQ Browser: 498\n",
      "Jooblebot: 466\n",
      "PhantomJS: 440\n",
      "Amazon Silk: 376\n",
      "AdsBot-Google: 312\n",
      "Pinterest: 288\n",
      "AhrefsBot: 229\n",
      "moatbot: 216\n",
      "JobBot: 208\n",
      "Sogou Explorer: 200\n",
      "Iron: 156\n",
      "Maxthon: 139\n",
      "Dragon: 105\n",
      "Pale Moon: 95\n",
      "PetalBot: 82\n",
      "Other: 58\n",
      "YandexBot: 56\n",
      "Vivaldi: 43\n",
      "YandexAccessibilityBot: 41\n",
      "BingPreview: 33\n",
      "Crosswalk: 27\n",
      "Thunderbird: 23\n",
      "AppEngine-Google: 22\n",
      "IE Mobile: 22\n",
      "Android: 19\n",
      "Edge Mobile: 17\n",
      "Puffin: 16\n",
      "QQ Browser Mobile: 15\n",
      "Epiphany: 15\n",
      "Electron: 13\n",
      "Opera Mini: 12\n",
      "FacebookBot: 12\n",
      "Yeti: 9\n",
      "WordPress: 9\n",
      "Coveobot: 8\n",
      "PagePeeker: 6\n",
      "Sleipnir: 6\n",
      "Mail.ru Chromium Browser: 5\n",
      "SeaMonkey: 5\n",
      "HbbTV: 4\n",
      "SiteScoreBot: 4\n",
      "Kindle: 3\n",
      "Seekport Crawler: 3\n",
      "MobileIron: 3\n",
      "Radius Compliance Bot: 2\n",
      "Opera Coast: 2\n",
      "K-Meleon: 2\n",
      "Netscape: 2\n",
      "Python Requests: 2\n",
      "Iceweasel: 2\n",
      "BlackBerry WebKit: 2\n",
      "net/bot: 1\n",
      "Konqueror: 1\n",
      "YandexSearch: 1\n",
      "Magus Bot: 1\n",
      "YisouSpider: 1\n",
      "HubSpot Crawler: 1\n",
      "NetFront: 1\n",
      "WebKit Nightly: 1\n",
      "DuckDuckBot: 1\n"
     ]
    }
   ],
   "source": [
    "!mongosh --quiet clickstream C:/Users/patwh/Downloads/js_commands/unique_value_counts.js"
   ]
  },
  {
   "cell_type": "markdown",
   "id": "d537945a-19c1-475a-9969-c485692fdb69",
   "metadata": {},
   "source": [
    "# CRUD Operations"
   ]
  },
  {
   "cell_type": "markdown",
   "id": "9f7f55cf-8a81-4b13-bf93-43f990fe21be",
   "metadata": {},
   "source": [
    "## Delete and Create"
   ]
  },
  {
   "cell_type": "markdown",
   "id": "659d036e-cd8e-4792-be1b-f31e7a09f5ff",
   "metadata": {},
   "source": [
    "### Identify the Last Record"
   ]
  },
  {
   "cell_type": "code",
   "execution_count": 41,
   "id": "030062c5-a22d-46d7-836d-af4ab809ab7b",
   "metadata": {},
   "outputs": [
    {
     "name": "stdout",
     "output_type": "stream",
     "text": [
      "[\n",
      "  {\n",
      "    _id: ObjectId('60df129dad74d9467ceebd51'),\n",
      "    webClientID: 'WI100000118333',\n",
      "    VisitDateTime: ISODate('2018-05-26T11:51:44.263Z'),\n",
      "    ProductID: 'Pr101251',\n",
      "    Activity: 'click',\n",
      "    device: { Browser: 'Chrome', OS: 'Windows' },\n",
      "    user: { City: 'Vijayawada', Country: 'India' }\n",
      "  }\n",
      "]\n"
     ]
    }
   ],
   "source": [
    "!mongosh --quiet --eval \"db.getSiblingDB('clickstream').clicks.find().sort({_id: -1}).limit(1)\""
   ]
  },
  {
   "cell_type": "markdown",
   "id": "bec02df0-93a4-4ca3-8954-78391fc6f3a9",
   "metadata": {},
   "source": [
    "### Write to File"
   ]
  },
  {
   "cell_type": "code",
   "execution_count": 42,
   "id": "ff7b5428-9900-4103-a0f8-caeb89367df8",
   "metadata": {},
   "outputs": [],
   "source": [
    "!mongosh --quiet --eval \"print(EJSON.stringify([db.getSiblingDB('clickstream').clicks.find().sort({_id: -1}).limit(1).toArray()[0]], {relaxed: true}))\" > js_files\\output.json"
   ]
  },
  {
   "cell_type": "markdown",
   "id": "c091a0df-0cb8-4ecb-a5e3-7b1f96e93d7e",
   "metadata": {},
   "source": [
    "### Delete the Last Record"
   ]
  },
  {
   "cell_type": "code",
   "execution_count": 43,
   "id": "961bbc47-b89a-45c0-ac27-6c5c64aefcdf",
   "metadata": {},
   "outputs": [
    {
     "name": "stdout",
     "output_type": "stream",
     "text": [
      "{ acknowledged: true, deletedCount: 1 }\n"
     ]
    }
   ],
   "source": [
    "!mongosh --quiet --eval \"db.getSiblingDB('clickstream').clicks.deleteOne({_id: db.getSiblingDB('clickstream').clicks.find().sort({_id: -1}).limit(1).toArray()[0]._id})\""
   ]
  },
  {
   "cell_type": "markdown",
   "id": "2cd3c7b6-ece7-4304-bf07-f79bedef39d9",
   "metadata": {},
   "source": [
    "### Insert it Back In"
   ]
  },
  {
   "cell_type": "code",
   "execution_count": 44,
   "id": "320c0606-098c-4cc8-89d2-ffec44f27dd4",
   "metadata": {},
   "outputs": [
    {
     "name": "stderr",
     "output_type": "stream",
     "text": [
      "2025-06-02T20:42:33.812-0600\tconnected to: mongodb://localhost/\n",
      "2025-06-02T20:42:33.819-0600\t1 document(s) imported successfully. 0 document(s) failed to import.\n"
     ]
    }
   ],
   "source": [
    "!mongoimport --db clickstream --collection clicks --file js_files\\output.json --jsonArray"
   ]
  },
  {
   "cell_type": "markdown",
   "id": "a4bb6fdc-8d26-44cc-afa3-b183ffe8082c",
   "metadata": {},
   "source": [
    "### Identify the Last 5 Records"
   ]
  },
  {
   "cell_type": "code",
   "execution_count": 45,
   "id": "bde0b935-0470-419a-ab5c-a4ca508e497e",
   "metadata": {},
   "outputs": [
    {
     "name": "stdout",
     "output_type": "stream",
     "text": [
      "[\n",
      "  {\n",
      "    _id: ObjectId('60df129dad74d9467ceebd51'),\n",
      "    webClientID: 'WI100000118333',\n",
      "    VisitDateTime: ISODate('2018-05-26T11:51:44.263Z'),\n",
      "    ProductID: 'Pr101251',\n",
      "    Activity: 'click',\n",
      "    device: { Browser: 'Chrome', OS: 'Windows' },\n",
      "    user: { City: 'Vijayawada', Country: 'India' }\n",
      "  },\n",
      "  {\n",
      "    _id: ObjectId('60df129dad74d9467ceebd50'),\n",
      "    webClientID: 'WI1000002001',\n",
      "    VisitDateTime: ISODate('2018-05-08T14:16:28.291Z'),\n",
      "    ProductID: 'Pr100004',\n",
      "    Activity: 'pageload',\n",
      "    device: { Browser: 'HeadlessChrome', OS: 'Linux' },\n",
      "    user: { City: 'Mountain View', Country: 'United States' }\n",
      "  },\n",
      "  {\n",
      "    _id: ObjectId('60df129dad74d9467ceebd4f'),\n",
      "    webClientID: 'WI100000346076',\n",
      "    VisitDateTime: ISODate('2018-05-18T18:44:37.379Z'),\n",
      "    ProductID: 'Pr100558',\n",
      "    Activity: 'pageload',\n",
      "    device: { Browser: 'Chrome Mobile', OS: 'Android' },\n",
      "    user: { Country: 'India' }\n",
      "  },\n",
      "  {\n",
      "    _id: ObjectId('60df129dad74d9467ceebd4e'),\n",
      "    webClientID: 'WI100000152625',\n",
      "    VisitDateTime: ISODate('2018-05-20T11:38:22.829Z'),\n",
      "    ProductID: 'Pr100197',\n",
      "    Activity: 'click',\n",
      "    device: { Browser: 'Firefox', OS: 'Windows' },\n",
      "    user: { City: 'Amsterdam', Country: 'Netherlands' }\n",
      "  },\n",
      "  {\n",
      "    _id: ObjectId('60df129dad74d9467ceebd4d'),\n",
      "    webClientID: 'WI10000021244',\n",
      "    VisitDateTime: ISODate('2018-05-11T08:40:18.473Z'),\n",
      "    ProductID: 'Pr100088',\n",
      "    Activity: 'click',\n",
      "    device: { Browser: 'Opera', OS: 'Linux' },\n",
      "    user: { City: 'Ho Chi Minh City', Country: 'Vietnam' }\n",
      "  }\n",
      "]\n"
     ]
    }
   ],
   "source": [
    "!mongosh --quiet --eval \"db.getSiblingDB('clickstream').clicks.find().sort({_id: -1}).limit(5)\""
   ]
  },
  {
   "cell_type": "markdown",
   "id": "99885c7b-38b2-4481-a5e2-57d0bc82e9b8",
   "metadata": {},
   "source": [
    "### Write to File"
   ]
  },
  {
   "cell_type": "code",
   "execution_count": 49,
   "id": "f8beffed-3e55-4847-9255-74c2197659a3",
   "metadata": {},
   "outputs": [],
   "source": [
    "!mongosh --quiet --eval \"print(EJSON.stringify(db.getSiblingDB('clickstream').clicks.find().sort({_id: -1}).limit(5).toArray(), {relaxed: true}))\" > js_files\\output.json"
   ]
  },
  {
   "cell_type": "markdown",
   "id": "1ff7829a-62ee-4844-a6fa-9d925d29534b",
   "metadata": {},
   "source": [
    "### Delete Them"
   ]
  },
  {
   "cell_type": "code",
   "execution_count": 52,
   "id": "3a17c7f0-6b48-45b3-9dd0-29d17daf7d4d",
   "metadata": {},
   "outputs": [
    {
     "name": "stdout",
     "output_type": "stream",
     "text": [
      "{ acknowledged: true, deletedCount: 5 }\n"
     ]
    }
   ],
   "source": [
    "!mongosh --quiet --eval \"db.getSiblingDB('clickstream').clicks.deleteMany({_id: {$in: db.getSiblingDB('clickstream').clicks.find().sort({_id: -1}).limit(5).toArray().map(doc => doc._id)}})\""
   ]
  },
  {
   "cell_type": "markdown",
   "id": "fe6b5366-7e7e-40b3-8596-28850bf872d1",
   "metadata": {},
   "source": [
    "### Insert Them Back In"
   ]
  },
  {
   "cell_type": "code",
   "execution_count": 53,
   "id": "713db6a6-307c-4816-9c9f-26f03a4813ab",
   "metadata": {},
   "outputs": [
    {
     "name": "stderr",
     "output_type": "stream",
     "text": [
      "2025-06-02T20:47:39.954-0600\tconnected to: mongodb://localhost/\n",
      "2025-06-02T20:47:39.960-0600\t5 document(s) imported successfully. 0 document(s) failed to import.\n"
     ]
    }
   ],
   "source": [
    "!mongoimport --db clickstream --collection clicks --file js_files\\output.json --jsonArray"
   ]
  },
  {
   "cell_type": "markdown",
   "id": "1f44a7d6-18e6-419d-8f82-84db554600a3",
   "metadata": {},
   "source": [
    "## Read"
   ]
  },
  {
   "cell_type": "markdown",
   "id": "df7fe03c-f34b-477f-a644-7e60df786288",
   "metadata": {},
   "source": [
    "### Filter to <code>_id</code> Equal to <code>60df129dad74d9467ceebd51</code>"
   ]
  },
  {
   "cell_type": "code",
   "execution_count": 58,
   "id": "2e273a14-fb0f-4504-9f93-274f1613188c",
   "metadata": {},
   "outputs": [
    {
     "name": "stdout",
     "output_type": "stream",
     "text": [
      "{\n",
      "  _id: ObjectId('60df129dad74d9467ceebd51'),\n",
      "  webClientID: 'WI100000118333',\n",
      "  VisitDateTime: ISODate('2018-05-26T11:51:44.263Z'),\n",
      "  ProductID: 'Pr101251',\n",
      "  Activity: 'click',\n",
      "  device: { Browser: 'Chrome', OS: 'Windows' },\n",
      "  user: { City: 'Vijayawada', Country: 'India' }\n",
      "}\n"
     ]
    }
   ],
   "source": [
    "!mongosh --quiet --eval \"db.getSiblingDB('clickstream').clicks.findOne({ _id: ObjectId('60df129dad74d9467ceebd51') })\""
   ]
  },
  {
   "cell_type": "markdown",
   "id": "2e912597-ed7b-409d-9923-946eb335d322",
   "metadata": {},
   "source": [
    "### Find First Record Where <code>device.Browser</code> is not Firefox"
   ]
  },
  {
   "cell_type": "code",
   "execution_count": 60,
   "id": "2314115e-d963-47a1-8429-c35c6547aa62",
   "metadata": {},
   "outputs": [
    {
     "name": "stdout",
     "output_type": "stream",
     "text": [
      "{\n",
      "  _id: ObjectId('60df1029ad74d9467c91a932'),\n",
      "  webClientID: 'WI100000244987',\n",
      "  VisitDateTime: ISODate('2018-05-25T04:51:14.179Z'),\n",
      "  ProductID: 'Pr100037',\n",
      "  Activity: 'click',\n",
      "  device: { Browser: 'Firefox', OS: 'Windows' },\n",
      "  user: { City: 'Colombo', Country: 'Sri Lanka' }\n",
      "}\n"
     ]
    }
   ],
   "source": [
    "!mongosh --quiet --eval \"db.getSiblingDB('clickstream').clicks.findOne({ 'device.Browser': 'Firefox' })\""
   ]
  },
  {
   "cell_type": "markdown",
   "id": "70aa4915-4def-4418-9af4-34c9146f2a3b",
   "metadata": {},
   "source": [
    "### Find First 2 Records Where <code>device.Browser</code> is not Firefox"
   ]
  },
  {
   "cell_type": "code",
   "execution_count": 61,
   "id": "d0781d2e-a8c5-4513-be5a-e27b6478eac2",
   "metadata": {},
   "outputs": [
    {
     "name": "stdout",
     "output_type": "stream",
     "text": [
      "[\n",
      "  {\n",
      "    _id: ObjectId('60df1029ad74d9467c91a933'),\n",
      "    webClientID: 'WI10000061461',\n",
      "    VisitDateTime: ISODate('2018-05-25T05:06:03.700Z'),\n",
      "    ProductID: 'Pr100872',\n",
      "    Activity: 'pageload',\n",
      "    device: { Browser: 'Chrome Mobile', OS: 'Android' },\n",
      "    user: {}\n",
      "  },\n",
      "  {\n",
      "    _id: ObjectId('60df1029ad74d9467c91a934'),\n",
      "    webClientID: 'WI10000075748',\n",
      "    VisitDateTime: ISODate('2018-05-17T11:51:09.265Z'),\n",
      "    ProductID: 'Pr100457',\n",
      "    Activity: 'click',\n",
      "    device: { Browser: 'Chrome', OS: 'Linux' },\n",
      "    user: { City: 'Ottawa', Country: 'Canada' }\n",
      "  }\n",
      "]\n"
     ]
    }
   ],
   "source": [
    "!mongosh --quiet --eval \"db.getSiblingDB('clickstream').clicks.find({ 'device.Browser': { $ne: 'Firefox' } }).limit(2).toArray()\""
   ]
  },
  {
   "cell_type": "markdown",
   "id": "0f4de314-71c8-4bb3-abbc-ab1db83320df",
   "metadata": {},
   "source": [
    "### Find First 2 Records Where <code>VisitDateTime</code> > 5/20/2018"
   ]
  },
  {
   "cell_type": "code",
   "execution_count": 62,
   "id": "74dca7c9-25b7-4230-9e89-b6da40ba7d6f",
   "metadata": {},
   "outputs": [
    {
     "name": "stdout",
     "output_type": "stream",
     "text": [
      "[\n",
      "  {\n",
      "    _id: ObjectId('60df1029ad74d9467c91a932'),\n",
      "    webClientID: 'WI100000244987',\n",
      "    VisitDateTime: ISODate('2018-05-25T04:51:14.179Z'),\n",
      "    ProductID: 'Pr100037',\n",
      "    Activity: 'click',\n",
      "    device: { Browser: 'Firefox', OS: 'Windows' },\n",
      "    user: { City: 'Colombo', Country: 'Sri Lanka' }\n",
      "  },\n",
      "  {\n",
      "    _id: ObjectId('60df1029ad74d9467c91a933'),\n",
      "    webClientID: 'WI10000061461',\n",
      "    VisitDateTime: ISODate('2018-05-25T05:06:03.700Z'),\n",
      "    ProductID: 'Pr100872',\n",
      "    Activity: 'pageload',\n",
      "    device: { Browser: 'Chrome Mobile', OS: 'Android' },\n",
      "    user: {}\n",
      "  }\n",
      "]\n"
     ]
    }
   ],
   "source": [
    "!mongosh --quiet --eval \"db.getSiblingDB('clickstream').clicks.find({ VisitDateTime: { $gt: ISODate('2018-05-20') } }).limit(2).toArray()\""
   ]
  },
  {
   "cell_type": "markdown",
   "id": "c7f3c482-2cf7-407e-aa78-0b269b34c5d1",
   "metadata": {},
   "source": [
    "### Get the Minimum and Maximum <code>VisitDateTime</code>"
   ]
  },
  {
   "cell_type": "code",
   "execution_count": 63,
   "id": "0f8d96bf-1e0a-48f7-927b-e9ed39b13e22",
   "metadata": {},
   "outputs": [
    {
     "name": "stdout",
     "output_type": "stream",
     "text": [
      "[\n",
      "  {\n",
      "    _id: null,\n",
      "    minVisitDateTime: ISODate('2018-05-07T00:00:01.190Z'),\n",
      "    maxVisitDateTime: ISODate('2018-05-27T23:59:59.576Z')\n",
      "  }\n",
      "]\n"
     ]
    }
   ],
   "source": [
    "!mongosh --quiet --eval \"db.getSiblingDB('clickstream').clicks.aggregate([{ $group: { _id: null, minVisitDateTime: { $min: '$VisitDateTime' }, maxVisitDateTime: { $max: '$VisitDateTime' } } }]).toArray()\""
   ]
  },
  {
   "cell_type": "markdown",
   "id": "883636cf-ac54-40c0-963c-28d5db161d82",
   "metadata": {},
   "source": [
    "Using a <code>.js</code> file instead:"
   ]
  },
  {
   "cell_type": "code",
   "execution_count": null,
   "id": "0b13a650-83f5-49f5-b97a-0533731a6dda",
   "metadata": {},
   "outputs": [],
   "source": [
    "## get_min_and_max_date.js\n",
    "\n",
    "# use('clickstream');\n",
    "# db.clicks.aggregate([\n",
    "#   {\n",
    "#     $group: {\n",
    "#       _id: null,\n",
    "#       minVisitDateTime: { $min: \"$VisitDateTime\" },\n",
    "#       maxVisitDateTime: { $max: \"$VisitDateTime\" }\n",
    "#     }\n",
    "#   },\n",
    "#   {\n",
    "#     $project: {\n",
    "#       _id: 0,\n",
    "#       minVisitDateTime: { $dateToString: { format: \"%Y-%m-%d\", date: \"$minVisitDateTime\" } },\n",
    "#       maxVisitDateTime: { $dateToString: { format: \"%Y-%m-%d\", date: \"$maxVisitDateTime\" } }\n",
    "#     }\n",
    "#   }\n",
    "# ]).forEach(printjson);"
   ]
  },
  {
   "cell_type": "code",
   "execution_count": 66,
   "id": "04b30978-db75-49c0-bb6d-285719455751",
   "metadata": {},
   "outputs": [
    {
     "name": "stdout",
     "output_type": "stream",
     "text": [
      "{\n",
      "  minVisitDateTime: '2018-05-07',\n",
      "  maxVisitDateTime: '2018-05-27'\n",
      "}\n"
     ]
    }
   ],
   "source": [
    "!mongosh --quiet --file js_files\\get_min_and_max_date.js"
   ]
  },
  {
   "cell_type": "markdown",
   "id": "17625e9b-9e94-4456-9dc2-b62501bdf951",
   "metadata": {},
   "source": [
    "### Get Count of Records Where <code>VisitDateTime</code> is Greater Than 5/20/2018"
   ]
  },
  {
   "cell_type": "code",
   "execution_count": 67,
   "id": "7551a6e1-620b-411a-a34a-7ac84b4bbd37",
   "metadata": {},
   "outputs": [
    {
     "name": "stdout",
     "output_type": "stream",
     "text": [
      "2453050\n"
     ]
    }
   ],
   "source": [
    "!mongosh --quiet --eval \"db.getSiblingDB('clickstream').clicks.countDocuments({ VisitDateTime: { $gt: ISODate('2018-05-20') } })\""
   ]
  },
  {
   "cell_type": "markdown",
   "id": "ff3c18a7-e70c-4888-a891-f1683ea1fe72",
   "metadata": {},
   "source": [
    "### Get Count of Records Where <code>user.Country</code> is <code>India</code> or <code>United States</code>"
   ]
  },
  {
   "cell_type": "markdown",
   "id": "b43cd665-c640-4a36-ba06-11e7330b64ac",
   "metadata": {},
   "source": [
    "#### Using <code>$or</code>"
   ]
  },
  {
   "cell_type": "code",
   "execution_count": 68,
   "id": "00576567-35e0-4c1f-b0aa-30840831ad5d",
   "metadata": {},
   "outputs": [
    {
     "name": "stdout",
     "output_type": "stream",
     "text": [
      "3497232\n"
     ]
    }
   ],
   "source": [
    "!mongosh --quiet --eval \"db.getSiblingDB('clickstream').clicks.countDocuments({ $or: [{ 'user.Country': 'India' }, { 'user.Country': 'United States' }] })\""
   ]
  },
  {
   "cell_type": "markdown",
   "id": "17d00fa4-812b-4d4f-b41a-41a65f55da19",
   "metadata": {},
   "source": [
    "#### Using <code>$in</code>"
   ]
  },
  {
   "cell_type": "code",
   "execution_count": 69,
   "id": "99e9dd2b-8887-455c-b30d-a4dcff3b37d9",
   "metadata": {},
   "outputs": [
    {
     "name": "stdout",
     "output_type": "stream",
     "text": [
      "3497232\n"
     ]
    }
   ],
   "source": [
    "!mongosh --quiet --eval \"db.getSiblingDB('clickstream').clicks.countDocuments({ 'user.Country': { $in: ['India', 'United States'] } })\""
   ]
  },
  {
   "cell_type": "markdown",
   "id": "364ef0d1-8a65-4941-884b-fec60c9163c5",
   "metadata": {},
   "source": [
    "### Get Count of Records Where <code>user.Country</code> is Neither <code>India</code> Nor <code>United States</code>"
   ]
  },
  {
   "cell_type": "markdown",
   "id": "a6f33e5f-f02b-4567-afb4-cedb61dbdc79",
   "metadata": {},
   "source": [
    "#### Using <code>$and</code>"
   ]
  },
  {
   "cell_type": "code",
   "execution_count": 71,
   "id": "7b4c51c5-f129-4056-b354-1b1af9862c4f",
   "metadata": {},
   "outputs": [
    {
     "name": "stdout",
     "output_type": "stream",
     "text": [
      "2602768\n"
     ]
    }
   ],
   "source": [
    "!mongosh --quiet --eval \"db.getSiblingDB('clickstream').clicks.countDocuments({ $and: [{ 'user.Country': { $ne: 'India' } }, { 'user.Country': { $ne: 'United States' } }] })\""
   ]
  },
  {
   "cell_type": "markdown",
   "id": "f2130e11-cb3f-4d34-962e-a14c0721d298",
   "metadata": {},
   "source": [
    "#### Using `$not` and `$in`"
   ]
  },
  {
   "cell_type": "code",
   "execution_count": 72,
   "id": "04e86868-c8f5-45d8-98a2-8d757277932b",
   "metadata": {},
   "outputs": [
    {
     "name": "stdout",
     "output_type": "stream",
     "text": [
      "2602768\n"
     ]
    }
   ],
   "source": [
    "!mongosh --quiet --eval \"db.getSiblingDB('clickstream').clicks.countDocuments({ 'user.Country': { $not: { $in: ['India', 'United States'] } } })\""
   ]
  },
  {
   "cell_type": "markdown",
   "id": "fb262240-530d-4b37-92c4-d33ee7f08b6c",
   "metadata": {},
   "source": [
    "#### Using <code>$nin</code>"
   ]
  },
  {
   "cell_type": "code",
   "execution_count": 73,
   "id": "b4e581d3-af87-4057-a2eb-004c4e4e8cac",
   "metadata": {},
   "outputs": [
    {
     "name": "stdout",
     "output_type": "stream",
     "text": [
      "2602768\n"
     ]
    }
   ],
   "source": [
    "!mongosh --quiet --eval \"db.getSiblingDB('clickstream').clicks.countDocuments({ 'user.Country': { $nin: ['India', 'United States'] } })\""
   ]
  },
  {
   "cell_type": "markdown",
   "id": "33e12a9e-fcd2-4f98-ac87-e5889572eac1",
   "metadata": {},
   "source": [
    "### Get Count of Records with <code>user.UserID</code>"
   ]
  },
  {
   "cell_type": "code",
   "execution_count": 74,
   "id": "7c79dcc7-5530-4381-b499-818c410537ec",
   "metadata": {},
   "outputs": [
    {
     "name": "stdout",
     "output_type": "stream",
     "text": [
      "602293\n"
     ]
    }
   ],
   "source": [
    "!mongosh --quiet --eval \"db.getSiblingDB('clickstream').clicks.countDocuments({ 'user.UserID': { $exists: true, $ne: null } })\""
   ]
  },
  {
   "cell_type": "markdown",
   "id": "d7d0ac1e-b3ca-4f7b-b41c-48005333defb",
   "metadata": {},
   "source": [
    "## Update"
   ]
  },
  {
   "cell_type": "markdown",
   "id": "6c566488-b5be-47dd-bcb5-129517413805",
   "metadata": {},
   "source": [
    "### Update <code>device.Browser</code> for Record <code>60df129dad74d9467ceebd51</code> to <code>Firefox</code>"
   ]
  },
  {
   "cell_type": "code",
   "execution_count": 75,
   "id": "50cce272-b116-4a20-a896-78e9e9e9806d",
   "metadata": {},
   "outputs": [
    {
     "name": "stdout",
     "output_type": "stream",
     "text": [
      "{\n",
      "  acknowledged: true,\n",
      "  insertedId: null,\n",
      "  matchedCount: 1,\n",
      "  modifiedCount: 1,\n",
      "  upsertedCount: 0\n",
      "}\n"
     ]
    }
   ],
   "source": [
    "!mongosh --quiet --eval \"db.getSiblingDB('clickstream').clicks.updateOne({ _id: ObjectId('60df129dad74d9467ceebd51') }, { $set: { 'device.Browser': 'Firefox' } })\""
   ]
  },
  {
   "cell_type": "markdown",
   "id": "bf9e9cac-28b4-4386-8a8d-fc926addbd4c",
   "metadata": {},
   "source": [
    "Set it back to original state for accuracy:"
   ]
  },
  {
   "cell_type": "code",
   "execution_count": 76,
   "id": "d5b893f1-e370-4256-9ab3-084433653962",
   "metadata": {},
   "outputs": [
    {
     "name": "stdout",
     "output_type": "stream",
     "text": [
      "{\n",
      "  acknowledged: true,\n",
      "  insertedId: null,\n",
      "  matchedCount: 1,\n",
      "  modifiedCount: 1,\n",
      "  upsertedCount: 0\n",
      "}\n"
     ]
    }
   ],
   "source": [
    "!mongosh --quiet --eval \"db.getSiblingDB('clickstream').clicks.updateOne({ _id: ObjectId('60df129dad74d9467ceebd51') }, { $set: { 'device.Browser': 'Chrome' } })\""
   ]
  },
  {
   "cell_type": "markdown",
   "id": "266312c7-0849-487c-a452-01999783e36d",
   "metadata": {},
   "source": [
    "### Update <code>device.Browser</code> Records to be <code>Firefox</code> if Set to <code>Firefox iOS</code>"
   ]
  },
  {
   "cell_type": "code",
   "execution_count": null,
   "id": "fafca6fd-55a8-4ee3-971b-db3f4a6f6b98",
   "metadata": {},
   "outputs": [],
   "source": [
    "# !mongosh --quiet --eval \"db.getSiblingDB('clickstream').clicks.updateMany({ 'device.Browser': 'Firefox iOS' }, { $set: { 'device.Browser': 'Firefox' } })\""
   ]
  },
  {
   "cell_type": "markdown",
   "id": "38659933-f21d-43d9-9695-31221ce42fb0",
   "metadata": {},
   "source": [
    "## Create New Field"
   ]
  },
  {
   "cell_type": "markdown",
   "id": "a678b156-042d-474c-8cd7-26e6155de3a1",
   "metadata": {},
   "source": [
    "### Add Field Called <code>NewField</code> to First 1000 Records, Set Value to <code>Default</code>"
   ]
  },
  {
   "cell_type": "code",
   "execution_count": 81,
   "id": "8e78ad0f-7259-4268-b370-615d874faa0e",
   "metadata": {},
   "outputs": [],
   "source": [
    "!mongosh --quiet --eval \"db.getSiblingDB('clickstream').clicks.find().limit(1000).forEach(doc => { db.getSiblingDB('clickstream').clicks.updateOne({ _id: doc._id }, { $set: { NewField: 'Default' } }); })\""
   ]
  },
  {
   "cell_type": "markdown",
   "id": "12df4c4d-9659-450f-b0ce-c36c9fbcf5d3",
   "metadata": {},
   "source": [
    "From file instead:"
   ]
  },
  {
   "cell_type": "code",
   "execution_count": null,
   "id": "61fa07c3-a76f-4c6f-897f-92b011c1f502",
   "metadata": {},
   "outputs": [],
   "source": [
    "## create_new_field.js\n",
    "\n",
    "# use('clickstream');\n",
    "# db.clicks.find().limit(1000).forEach(doc => {\n",
    "#   db.clicks.updateOne(\n",
    "#     { _id: doc._id },\n",
    "#     { $set: { NewField: \"Default\" } }\n",
    "#   );\n",
    "# });"
   ]
  },
  {
   "cell_type": "code",
   "execution_count": 83,
   "id": "f047576f-d928-4fbc-8e08-3e68ffe6925d",
   "metadata": {},
   "outputs": [],
   "source": [
    "!mongosh --quiet --file js_files\\create_new_field.js"
   ]
  },
  {
   "cell_type": "markdown",
   "id": "da078065-846b-420b-9dbb-d7d48eb614d0",
   "metadata": {},
   "source": [
    "### Remove the Added Field"
   ]
  },
  {
   "cell_type": "code",
   "execution_count": 82,
   "id": "8be37013-44f0-4b17-a2e5-e334c1978c42",
   "metadata": {},
   "outputs": [
    {
     "name": "stdout",
     "output_type": "stream",
     "text": [
      "{\n",
      "  acknowledged: true,\n",
      "  insertedId: null,\n",
      "  matchedCount: 1000,\n",
      "  modifiedCount: 1000,\n",
      "  upsertedCount: 0\n",
      "}\n"
     ]
    }
   ],
   "source": [
    "!mongosh --quiet --eval \"db.getSiblingDB('clickstream').clicks.updateMany({ NewField: { $exists: true } }, { $unset: { NewField: '' } })\""
   ]
  },
  {
   "cell_type": "markdown",
   "id": "c86fc48f-1f59-48f1-9f6a-df2160f8ef71",
   "metadata": {},
   "source": [
    "# Indexes"
   ]
  },
  {
   "cell_type": "markdown",
   "id": "baebc92c-a2ed-4b0e-ae9d-d549b86415f4",
   "metadata": {},
   "source": [
    "## View Indexes"
   ]
  },
  {
   "cell_type": "code",
   "execution_count": 85,
   "id": "c5296026-d29d-4e3e-a046-deb68a4f8c9f",
   "metadata": {},
   "outputs": [
    {
     "name": "stdout",
     "output_type": "stream",
     "text": [
      "[ { v: 2, key: { _id: 1 }, name: '_id_' } ]\n"
     ]
    }
   ],
   "source": [
    "!mongosh --quiet --eval \"db.getSiblingDB('clickstream').clicks.getIndexes()\""
   ]
  },
  {
   "cell_type": "code",
   "execution_count": 87,
   "id": "e01a9cca-05cc-4428-934d-88c94630f408",
   "metadata": {},
   "outputs": [
    {
     "name": "stdout",
     "output_type": "stream",
     "text": [
      "{\n",
      "  _id: ObjectId('683e62e88926dbbe2fc44be9'),\n",
      "  indexes: [ { v: 2, key: { _id: 1 }, name: '_id_' } ],\n",
      "  uuid: 'ee6da5fe5bdf42b2bc3cecee40723af6',\n",
      "  collectionName: 'clicks'\n",
      "}\n"
     ]
    }
   ],
   "source": [
    "!mongosh --quiet --eval \"db.getSiblingDB('clickstream').clicks.metadata.findOne();\""
   ]
  },
  {
   "cell_type": "markdown",
   "id": "49d29444-5f47-4b39-84b7-4ae82767cc4b",
   "metadata": {},
   "source": [
    "## Create Indexes"
   ]
  },
  {
   "cell_type": "code",
   "execution_count": 89,
   "id": "01387504-7fee-4a58-a10e-64e44e9c5eb1",
   "metadata": {},
   "outputs": [
    {
     "name": "stdout",
     "output_type": "stream",
     "text": [
      "device.OS_1\n"
     ]
    }
   ],
   "source": [
    "!mongosh --quiet --eval \"db.getSiblingDB('clickstream').clicks.createIndex({ 'device.OS': 1 })\""
   ]
  },
  {
   "cell_type": "code",
   "execution_count": 90,
   "id": "7f486f97-a91e-47e6-a5d2-b206bcf37984",
   "metadata": {},
   "outputs": [
    {
     "name": "stdout",
     "output_type": "stream",
     "text": [
      "device.Browser_1\n"
     ]
    }
   ],
   "source": [
    "!mongosh --quiet --eval \"db.getSiblingDB('clickstream').clicks.createIndex({ 'device.Browser': 1 })\""
   ]
  }
 ],
 "metadata": {
  "kernelspec": {
   "display_name": "Python [conda env:base] *",
   "language": "python",
   "name": "conda-base-py"
  },
  "language_info": {
   "codemirror_mode": {
    "name": "ipython",
    "version": 3
   },
   "file_extension": ".py",
   "mimetype": "text/x-python",
   "name": "python",
   "nbconvert_exporter": "python",
   "pygments_lexer": "ipython3",
   "version": "3.12.7"
  }
 },
 "nbformat": 4,
 "nbformat_minor": 5
}
